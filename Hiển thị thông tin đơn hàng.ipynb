{
 "cells": [
  {
   "cell_type": "code",
   "execution_count": 2,
   "id": "6c0e65cc",
   "metadata": {},
   "outputs": [
    {
     "name": "stdout",
     "output_type": "stream",
     "text": [
      "Nhập vào số tiền: 810\n",
      "Số tiền thanh toán là:  760\n"
     ]
    }
   ],
   "source": [
    "num = int(input(\"Nhập vào số tiền: \"))\n",
    "if num >= 150:\n",
    "    print(\"Số tiền thanh toán là: \", num - 50)\n",
    "elif num >= 100:\n",
    "    print(\"Số tiền thanh toán là: \", num - 25)\n",
    "elif num >= 75:\n",
    "    print(\"Số tiền thanh toán là: \", num - 15)\n",
    "else:\n",
    "    print(\"Số tiền thanh toán là: \", num)"
   ]
  }
 ],
 "metadata": {
  "kernelspec": {
   "display_name": "Python 3 (ipykernel)",
   "language": "python",
   "name": "python3"
  },
  "language_info": {
   "codemirror_mode": {
    "name": "ipython",
    "version": 3
   },
   "file_extension": ".py",
   "mimetype": "text/x-python",
   "name": "python",
   "nbconvert_exporter": "python",
   "pygments_lexer": "ipython3",
   "version": "3.9.6"
  }
 },
 "nbformat": 4,
 "nbformat_minor": 5
}
