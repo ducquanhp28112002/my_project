{
 "cells": [
  {
   "cell_type": "code",
   "execution_count": null,
   "id": "a42fa0c7",
   "metadata": {},
   "outputs": [],
   "source": [
    "\"\"\"\n",
    "Tạo class có tên SoHoc gồm có các thuộc tính và phương thức sau:\n",
    "+ Thuộc tính: number1, number2\n",
    "+ Phương thức:\n",
    "- Phương thức tạo __init()__\n",
    "- Các phương thức get, set cho tất cả các thuộc tính\n",
    "- input_info(): dùng để nhập 2 số number1, number2\n",
    "- print_info(): dùng để hiển thị number1, number2\n",
    "- addition(): dùng để cộng number1, number2\n",
    "- subtract(): trừ number1, number2\n",
    "- multi(): dùng để nhân number1, number2\n",
    "- division(): dùng để chia number1, number2.\n",
    "\n",
    "Sau khi tạo class, khởi tạo một object SoHoc và in ra kết quả tính toán từ các hàm thực hiện phép tính\n",
    "\"\"\""
   ]
  },
  {
   "cell_type": "code",
   "execution_count": 6,
   "id": "c0ee4c27",
   "metadata": {},
   "outputs": [],
   "source": [
    "class SoHoc:\n",
    "    def __init__(self):\n",
    "        \n",
    "        self.number1 = 0\n",
    "        self.number2 = 0\n",
    "        \n",
    "    def input_info(self):\n",
    "        self.number1 = float(input(\"Nhập số: \"))\n",
    "        self.number2 = float(input(\"Nhập số: \"))\n",
    "        \n",
    "    def print_info(self):\n",
    "        print(self.number1)\n",
    "        print(self.number2)\n",
    "        \n",
    "    def addtion(self):\n",
    "        return self.number1 + self.number2\n",
    "    \n",
    "    def subtract(self):\n",
    "        return self.number1 - self.number2\n",
    "    \n",
    "    def multi(self):\n",
    "        return self.number1 * self.number2\n",
    "    \n",
    "    def division(self):\n",
    "        return self.number1 / self.number2"
   ]
  },
  {
   "cell_type": "code",
   "execution_count": 7,
   "id": "2b80e86a",
   "metadata": {},
   "outputs": [
    {
     "name": "stdout",
     "output_type": "stream",
     "text": [
      "<__main__.SoHoc object at 0x000001329CD218B0>\n",
      "Nhập số: 6\n",
      "Nhập số: 3\n",
      "None\n",
      "6.0\n",
      "3.0\n",
      "None\n",
      "Tổng hai số là:  9.0\n",
      "Hiệu hai số là:  3.0\n",
      "Tích hai số là:  18.0\n",
      "Thương hai số là:  2.0\n"
     ]
    }
   ],
   "source": [
    "number = SoHoc()\n",
    "print(number)\n",
    "\n",
    "a = number.input_info()\n",
    "print(a)\n",
    "\n",
    "b = number.print_info()\n",
    "print(b)\n",
    "\n",
    "c = number.addtion()\n",
    "print(\"Tổng hai số là: \", c)\n",
    "\n",
    "d = number.subtract()\n",
    "print(\"Hiệu hai số là: \", d)\n",
    "\n",
    "e = number.multi()\n",
    "print(\"Tích hai số là: \", e)\n",
    "\n",
    "f = number.division()\n",
    "print(\"Thương hai số là: \", f)"
   ]
  },
  {
   "cell_type": "code",
   "execution_count": 13,
   "id": "a5cf5b36",
   "metadata": {
    "scrolled": true
   },
   "outputs": [
    {
     "name": "stdout",
     "output_type": "stream",
     "text": [
      "hello\n",
      "hello\n",
      "hello\n",
      "hello\n"
     ]
    }
   ],
   "source": [
    "def hello():\n",
    "    return \"hello\"\n",
    "\n",
    "a = hello()\n",
    "print(a)\n",
    "print(a)\n",
    "print(a)\n",
    "print(a)\n"
   ]
  },
  {
   "cell_type": "code",
   "execution_count": 14,
   "id": "fa45b8ed",
   "metadata": {},
   "outputs": [
    {
     "name": "stdout",
     "output_type": "stream",
     "text": [
      "Enter number 1: 8\n",
      "Enter number 2: 4\n",
      "8\n",
      "4\n",
      "2\n",
      "12\n",
      "32\n",
      "4\n"
     ]
    }
   ],
   "source": [
    "class SoHoc:\n",
    "    def __init__(self):\n",
    "        self.num1 = None\n",
    "        self.num2 = None\n",
    "        #pass\n",
    "    \n",
    "    def input_info(self):\n",
    "        self.num1 = int(input(\"Enter number 1: \"))\n",
    "        self.num2 = int(input(\"Enter number 2: \"))\n",
    "        #return self.num1, self.num2\n",
    "   \n",
    "    def print_info(self):\n",
    "        print(self.num1)\n",
    "        print(self.num2)\n",
    "        #print(self.input_info())\n",
    "    \n",
    "    def addtion(self):\n",
    "        tong = self.num1 + self.num2\n",
    "        return tong\n",
    "    \n",
    "    def subtract(self):\n",
    "        hieu = self.num1 - self.num2\n",
    "        return hieu\n",
    "    \n",
    "    def multi(self):\n",
    "        tich = self.num1 * self.num2\n",
    "        return tich\n",
    "    \n",
    "    def division(self):\n",
    "        thuong = self.num1 // self.num2\n",
    "        return thuong\n",
    "    \n",
    "n = SoHoc()\n",
    "n.input_info()\n",
    "n.print_info()\n",
    "print(n.division())\n",
    "print(n.addtion())\n",
    "print(n.multi())\n",
    "print(n.subtract())\n"
   ]
  }
 ],
 "metadata": {
  "kernelspec": {
   "display_name": "Python 3 (ipykernel)",
   "language": "python",
   "name": "python3"
  },
  "language_info": {
   "codemirror_mode": {
    "name": "ipython",
    "version": 3
   },
   "file_extension": ".py",
   "mimetype": "text/x-python",
   "name": "python",
   "nbconvert_exporter": "python",
   "pygments_lexer": "ipython3",
   "version": "3.9.6"
  }
 },
 "nbformat": 4,
 "nbformat_minor": 5
}
