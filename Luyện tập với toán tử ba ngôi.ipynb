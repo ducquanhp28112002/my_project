{
 "cells": [
  {
   "cell_type": "code",
   "execution_count": null,
   "id": "ab85e1dd",
   "metadata": {},
   "outputs": [],
   "source": [
    "number = int(input(\"Nhập vào số nguyên: \"))\n",
    "if number % 2 == 0:\n",
    "    print (f\"{number} là số chẵn\")\n",
    "else:\n",
    "    print (f\"{number} là số lẻ\")"
   ]
  }
 ],
 "metadata": {
  "kernelspec": {
   "display_name": "Python 3 (ipykernel)",
   "language": "python",
   "name": "python3"
  },
  "language_info": {
   "codemirror_mode": {
    "name": "ipython",
    "version": 3
   },
   "file_extension": ".py",
   "mimetype": "text/x-python",
   "name": "python",
   "nbconvert_exporter": "python",
   "pygments_lexer": "ipython3",
   "version": "3.9.6"
  }
 },
 "nbformat": 4,
 "nbformat_minor": 5
}
