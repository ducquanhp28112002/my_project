{
 "cells": [
  {
   "cell_type": "code",
   "execution_count": 1,
   "id": "54e87463",
   "metadata": {},
   "outputs": [
    {
     "name": "stdout",
     "output_type": "stream",
     "text": [
      "Name: Nguyễn Đức Quân\n",
      "Age: 19\n",
      "Email: ducquanhp28112002@gmail.com\n"
     ]
    }
   ],
   "source": [
    "print (\"Name: Nguyễn Đức Quân\")\n",
    "print (\"Age: 19\")\n",
    "print (\"Email: ducquanhp28112002@gmail.com\")"
   ]
  }
 ],
 "metadata": {
  "kernelspec": {
   "display_name": "Python 3 (ipykernel)",
   "language": "python",
   "name": "python3"
  },
  "language_info": {
   "codemirror_mode": {
    "name": "ipython",
    "version": 3
   },
   "file_extension": ".py",
   "mimetype": "text/x-python",
   "name": "python",
   "nbconvert_exporter": "python",
   "pygments_lexer": "ipython3",
   "version": "3.9.6"
  }
 },
 "nbformat": 4,
 "nbformat_minor": 5
}
