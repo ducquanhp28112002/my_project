{
 "cells": [
  {
   "cell_type": "markdown",
   "id": "60a35469",
   "metadata": {},
   "source": [
    "## [Thực hành] Tính chu vi và diện tích hình tròn\n",
    "### Mô tả bài toán\n",
    "Nhập vào bán kính của hình tròn, vẽ hình tròn có bán kính đã nhập. Tính chu vi và diện tích của hình tròn có bán kính vừa nhập. Hiển thị kết quả ra màn hình."
   ]
  },
  {
   "cell_type": "code",
   "execution_count": 11,
   "id": "dc7f9982",
   "metadata": {},
   "outputs": [
    {
     "name": "stdout",
     "output_type": "stream",
     "text": [
      "Nhập vào bán kính hình tròn: 100\n"
     ]
    }
   ],
   "source": [
    "# Bước 1: Nhập bán kính hình tròn\n",
    "radius = int(input(\"Nhập vào bán kính hình tròn: \"))"
   ]
  },
  {
   "cell_type": "code",
   "execution_count": 14,
   "id": "701af960",
   "metadata": {},
   "outputs": [],
   "source": [
    "# Bước 2: Tính chu vi và diện tích hình tròn\n",
    "# chu_vi = pi * 2 * r\n",
    "# dien_tich = pi * r * r\n",
    "from math import pi\n",
    "\n",
    "p = pi * 2 * radius\n",
    "s = pi * (radius ** 2)\n",
    "\n",
    "# cv = round(2*radius*p,2)\n",
    "# s = round(radius**2*p,2)\n"
   ]
  },
  {
   "cell_type": "code",
   "execution_count": 9,
   "id": "f6684954",
   "metadata": {},
   "outputs": [
    {
     "name": "stdout",
     "output_type": "stream",
     "text": [
      "Chu vi là: 62.83185307179586\n",
      "Diện tích là: 314.1592653589793\n"
     ]
    }
   ],
   "source": [
    "print(\"Chu vi là:\", p)\n",
    "print(\"Diện tích là:\", s)"
   ]
  },
  {
   "cell_type": "code",
   "execution_count": 13,
   "id": "016540cb",
   "metadata": {},
   "outputs": [],
   "source": [
    "import turtle\n",
    "pen = turtle.Turtle()\n",
    "pen.circle(radius)\n",
    "turtle.done()"
   ]
  }
 ],
 "metadata": {
  "kernelspec": {
   "display_name": "Python 3 (ipykernel)",
   "language": "python",
   "name": "python3"
  },
  "language_info": {
   "codemirror_mode": {
    "name": "ipython",
    "version": 3
   },
   "file_extension": ".py",
   "mimetype": "text/x-python",
   "name": "python",
   "nbconvert_exporter": "python",
   "pygments_lexer": "ipython3",
   "version": "3.9.6"
  }
 },
 "nbformat": 4,
 "nbformat_minor": 5
}
