{
 "cells": [
  {
   "cell_type": "code",
   "execution_count": 2,
   "id": "a430c78c",
   "metadata": {},
   "outputs": [
    {
     "name": "stdout",
     "output_type": "stream",
     "text": [
      "Nhập dãy chữ số: 823\n",
      "tám hai ba "
     ]
    }
   ],
   "source": [
    "numbers = input(\"Nhập dãy chữ số: \")\n",
    "\n",
    "text = (\"không\", \"một\", \"hai\", \"ba\", \"bốn\", \"năm\", \"sáu\", \"bảy\", \"tám\", \"chín\")\n",
    "\n",
    "for num in numbers:\n",
    "      print(text[int(num)], end = ' ')"
   ]
  }
 ],
 "metadata": {
  "kernelspec": {
   "display_name": "Python 3 (ipykernel)",
   "language": "python",
   "name": "python3"
  },
  "language_info": {
   "codemirror_mode": {
    "name": "ipython",
    "version": 3
   },
   "file_extension": ".py",
   "mimetype": "text/x-python",
   "name": "python",
   "nbconvert_exporter": "python",
   "pygments_lexer": "ipython3",
   "version": "3.9.6"
  }
 },
 "nbformat": 4,
 "nbformat_minor": 5
}
