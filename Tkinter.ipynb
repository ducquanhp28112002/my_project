{
 "cells": [
  {
   "cell_type": "code",
   "execution_count": 2,
   "id": "26923adf",
   "metadata": {},
   "outputs": [],
   "source": [
    "import tkinter\n",
    "from tkinter import *\n",
    "from tkinter.ttk import *\n",
    "from tkinter import messagebox"
   ]
  },
  {
   "cell_type": "code",
   "execution_count": null,
   "id": "5e279b90",
   "metadata": {},
   "outputs": [],
   "source": []
  },
  {
   "cell_type": "code",
   "execution_count": 4,
   "id": "8c0c6a39",
   "metadata": {},
   "outputs": [],
   "source": [
    "window = Tk()\n",
    "window.title(\"Đức Quân\")\n",
    "window.geometry(\"800x600\")\n",
    "\n",
    "# Thêm Label\n",
    "lbl = tkinter.Label(window, text = \"Hello Đức Quân\", fg = \"blue\", font = (\"Time New Roman\", 20))\n",
    "lbl.grid(column = 0, row = 0)\n",
    "\n",
    "# Thêm Textbox\n",
    "txt = Entry(window, width = 20)\n",
    "txt.grid(column = 0, row = 1)\n",
    "\n",
    "def say():\n",
    "    lbl.configure(text = \"Hello \" + txt.get())\n",
    "    return\n",
    "\n",
    "# Thêm Button\n",
    "btn = Button(window, text = \"Say hello\", command = say)\n",
    "btn.grid(column = 1, row = 1)\n",
    "\n",
    "# Thêm Combobox\n",
    "combo = Combobox(window)\n",
    "combo[\"values\"] = (\"An\", \"Bình\", \"Cường\")\n",
    "combo.current(0) # Chọn bạn An\n",
    "combo.grid(column = 0, row = 2)\n",
    "\n",
    "def say1():\n",
    "    # lbl.configure(text = \"Hello \" + combo.get())\n",
    "    messagebox.showinfo(\"Quân đẹp trai\", \"Hi \" + combo.get())\n",
    "    return\n",
    "\n",
    "# Thêm Button\n",
    "btn = Button(window, text = \"Say hello\", command = say1)\n",
    "btn.grid(column = 1, row = 2)\n",
    "\n",
    "window.mainloop()"
   ]
  },
  {
   "cell_type": "code",
   "execution_count": null,
   "id": "18ceffcd",
   "metadata": {},
   "outputs": [],
   "source": []
  }
 ],
 "metadata": {
  "kernelspec": {
   "display_name": "Python 3 (ipykernel)",
   "language": "python",
   "name": "python3"
  },
  "language_info": {
   "codemirror_mode": {
    "name": "ipython",
    "version": 3
   },
   "file_extension": ".py",
   "mimetype": "text/x-python",
   "name": "python",
   "nbconvert_exporter": "python",
   "pygments_lexer": "ipython3",
   "version": "3.9.6"
  }
 },
 "nbformat": 4,
 "nbformat_minor": 5
}
