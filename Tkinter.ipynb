{
 "cells": [
  {
   "cell_type": "code",
   "execution_count": 1,
   "id": "26923adf",
   "metadata": {},
   "outputs": [],
   "source": [
    "import tkinter\n",
    "from tkinter import *\n",
    "from tkinter.ttk import *\n",
    "from tkinter import messagebox"
   ]
  },
  {
   "cell_type": "code",
   "execution_count": 2,
   "id": "8c0c6a39",
   "metadata": {},
   "outputs": [],
   "source": [
    "window = Tk()\n",
    "window.title(\"Đức Quân\")\n",
    "window.geometry(\"800x600\")\n",
    "\n",
    "# Thêm Label\n",
    "lbl = tkinter.Label(window, text = \"Hello Đức Quân\", fg = \"blue\", font = (\"Time New Roman\", 20))\n",
    "lbl.grid(column = 0, row = 0)\n",
    "\n",
    "# Thêm Textbox\n",
    "txt = Entry(window, width = 20)\n",
    "txt.grid(column = 0, row = 1)\n",
    "\n",
    "def say():\n",
    "    lbl.configure(text = \"Hello \" + txt.get())\n",
    "    return\n",
    "\n",
    "# Thêm Button\n",
    "btn = Button(window, text = \"Say hello\", command = say)\n",
    "btn.grid(column = 1, row = 1)\n",
    "\n",
    "# Thêm Combobox\n",
    "combo = Combobox(window)\n",
    "combo[\"values\"] = (\"An\", \"Bình\", \"Cường\")\n",
    "combo.current(0) # Chọn bạn An\n",
    "combo.grid(column = 0, row = 2)\n",
    "\n",
    "def say1():\n",
    "    # lbl.configure(text = \"Hello \" + combo.get())\n",
    "    messagebox.showinfo(\"Quân đẹp trai\", \"Hi \" + combo.get())\n",
    "    return\n",
    "\n",
    "# Thêm Button\n",
    "btn = Button(window, text = \"Say hello\", command = say1)\n",
    "btn.grid(column = 1, row = 2)\n",
    "\n",
    "\n",
    "window.mainloop()"
   ]
  },
  {
   "cell_type": "code",
   "execution_count": null,
   "id": "7339e5e9",
   "metadata": {},
   "outputs": [],
   "source": [
    "import tkinter\n",
    "from tkinter import *\n",
    "from tkinter.ttk import *\n",
    "from tkinter import messagebox\n"
   ]
  },
  {
   "cell_type": "code",
   "execution_count": 30,
   "id": "5e022add",
   "metadata": {},
   "outputs": [
    {
     "ename": "NameError",
     "evalue": "name 'cv2' is not defined",
     "output_type": "error",
     "traceback": [
      "\u001b[1;31m---------------------------------------------------------------------------\u001b[0m",
      "\u001b[1;31mNameError\u001b[0m                                 Traceback (most recent call last)",
      "\u001b[1;32m~\\AppData\\Local\\Temp/ipykernel_19104/3679327035.py\u001b[0m in \u001b[0;36m<module>\u001b[1;34m\u001b[0m\n\u001b[0;32m      2\u001b[0m \u001b[0mwindow\u001b[0m\u001b[1;33m.\u001b[0m\u001b[0mtitle\u001b[0m\u001b[1;33m(\u001b[0m\u001b[1;34m\"Camera\"\u001b[0m\u001b[1;33m)\u001b[0m\u001b[1;33m\u001b[0m\u001b[1;33m\u001b[0m\u001b[0m\n\u001b[0;32m      3\u001b[0m \u001b[1;33m\u001b[0m\u001b[0m\n\u001b[1;32m----> 4\u001b[1;33m \u001b[0mvideo\u001b[0m \u001b[1;33m=\u001b[0m \u001b[0mcv2\u001b[0m\u001b[1;33m.\u001b[0m\u001b[0mVideoCapture\u001b[0m\u001b[1;33m(\u001b[0m\u001b[1;36m0\u001b[0m\u001b[1;33m)\u001b[0m\u001b[1;33m\u001b[0m\u001b[1;33m\u001b[0m\u001b[0m\n\u001b[0m\u001b[0;32m      5\u001b[0m \u001b[0mret\u001b[0m\u001b[1;33m,\u001b[0m \u001b[0mframe\u001b[0m \u001b[1;33m=\u001b[0m \u001b[0mvideo\u001b[0m\u001b[1;33m.\u001b[0m\u001b[0mread\u001b[0m\u001b[1;33m\u001b[0m\u001b[1;33m\u001b[0m\u001b[0m\n\u001b[0;32m      6\u001b[0m \u001b[0mcv2\u001b[0m\u001b[1;33m.\u001b[0m\u001b[0mimshow\u001b[0m\u001b[1;33m(\u001b[0m\u001b[1;34m\"W\"\u001b[0m\u001b[1;33m,\u001b[0m \u001b[0mframe\u001b[0m\u001b[1;33m)\u001b[0m\u001b[1;33m\u001b[0m\u001b[1;33m\u001b[0m\u001b[0m\n",
      "\u001b[1;31mNameError\u001b[0m: name 'cv2' is not defined"
     ]
    }
   ],
   "source": [
    "window = Tk()\n",
    "window.title(\"Camera\")\n",
    "\n",
    "video = cv2.VideoCapture(0)\n",
    "ret, frame = video.read\n",
    "cv2.imshow(\"W\", frame)\n",
    "\n",
    "window.mainloop()"
   ]
  }
 ],
 "metadata": {
  "kernelspec": {
   "display_name": "Python 3 (ipykernel)",
   "language": "python",
   "name": "python3"
  },
  "language_info": {
   "codemirror_mode": {
    "name": "ipython",
    "version": 3
   },
   "file_extension": ".py",
   "mimetype": "text/x-python",
   "name": "python",
   "nbconvert_exporter": "python",
   "pygments_lexer": "ipython3",
   "version": "3.9.6"
  }
 },
 "nbformat": 4,
 "nbformat_minor": 5
}
