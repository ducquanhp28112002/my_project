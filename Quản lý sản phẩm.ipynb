{
 "cells": [
  {
   "cell_type": "code",
   "execution_count": 27,
   "id": "d24fa8ee",
   "metadata": {},
   "outputs": [],
   "source": [
    "information = {101: \"Mũ bảo hiểm\", 102: \"Xe đạp\", 103: \"Tủ gỗ\", 104: \"Giường\", 105: \"Bàn học\"}"
   ]
  },
  {
   "cell_type": "code",
   "execution_count": 19,
   "id": "1c25228f",
   "metadata": {},
   "outputs": [
    {
     "name": "stdout",
     "output_type": "stream",
     "text": [
      "101: Mũ bảo hiểm\n",
      "102: Xe đạp\n",
      "103: Tủ gỗ\n",
      "104: Giường\n",
      "105: Bàn học\n"
     ]
    }
   ],
   "source": [
    "def product():\n",
    "    for i in information:\n",
    "        print (f\"{i}: {information[i]}\")\n",
    "product()"
   ]
  },
  {
   "cell_type": "code",
   "execution_count": 28,
   "id": "b47ec099",
   "metadata": {},
   "outputs": [
    {
     "name": "stdout",
     "output_type": "stream",
     "text": [
      "{101: 'Mũ bảo hiểm', 102: 'Xe đạp', 103: 'Ghế xoay', 104: 'Giường', 105: 'Bàn học'}\n"
     ]
    }
   ],
   "source": [
    "def update(i):\n",
    "    information[i] = \"Ghế xoay\"\n",
    "    print(information)\n",
    "update(103)"
   ]
  },
  {
   "cell_type": "code",
   "execution_count": null,
   "id": "7aa9ea47",
   "metadata": {},
   "outputs": [],
   "source": []
  }
 ],
 "metadata": {
  "kernelspec": {
   "display_name": "Python 3 (ipykernel)",
   "language": "python",
   "name": "python3"
  },
  "language_info": {
   "codemirror_mode": {
    "name": "ipython",
    "version": 3
   },
   "file_extension": ".py",
   "mimetype": "text/x-python",
   "name": "python",
   "nbconvert_exporter": "python",
   "pygments_lexer": "ipython3",
   "version": "3.9.6"
  }
 },
 "nbformat": 4,
 "nbformat_minor": 5
}
