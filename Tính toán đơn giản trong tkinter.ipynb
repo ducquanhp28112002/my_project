{
 "cells": [
  {
   "cell_type": "code",
   "execution_count": 1,
   "id": "a60bc4cf",
   "metadata": {},
   "outputs": [],
   "source": [
    "from tkinter import *\n",
    "\n",
    "window = Tk()\n",
    "\n",
    "window.title(\"Excercise\")\n",
    "window.geometry(\"200x200\")\n",
    "\n",
    "first = Label(window, text = \"Number 1\").pack()\n",
    "number1 = Entry(window)\n",
    "number1.pack()\n",
    "\n",
    "second = Label(window, text = \"Number 2\").pack()\n",
    "number2 = Entry(window)\n",
    "number2.pack()\n",
    "\n",
    "\n",
    "def tong():\n",
    "    result.config(text = float(number1.get()) + float(number2.get()))\n",
    "\n",
    "tong_so = Button(window, text = \"+\", command = tong).pack()\n",
    "\n",
    "def hieu():\n",
    "    result.config(text = float(number1.get()) - float(number2.get()))\n",
    "\n",
    "\n",
    "hieu_so = Button(window, text = \"-\", command = hieu).pack()\n",
    "\n",
    "def tich():\n",
    "    result.config(text = float(number1.get()) * float(number2.get()))\n",
    "\n",
    "tich_so = Button(window, text = \"*\", command = tich).pack()\n",
    "\n",
    "def thuong():\n",
    "    result.config(text = float(number1.get()) / float(number2.get()))\n",
    "\n",
    "thuong_so = Button(window, text = \"/\", command = thuong).pack()\n",
    "    \n",
    "\n",
    "result = Label(window, text = \"Result\")\n",
    "result.pack()\n",
    "\n",
    "window.mainloop()"
   ]
  }
 ],
 "metadata": {
  "kernelspec": {
   "display_name": "Python 3 (ipykernel)",
   "language": "python",
   "name": "python3"
  },
  "language_info": {
   "codemirror_mode": {
    "name": "ipython",
    "version": 3
   },
   "file_extension": ".py",
   "mimetype": "text/x-python",
   "name": "python",
   "nbconvert_exporter": "python",
   "pygments_lexer": "ipython3",
   "version": "3.9.6"
  }
 },
 "nbformat": 4,
 "nbformat_minor": 5
}
