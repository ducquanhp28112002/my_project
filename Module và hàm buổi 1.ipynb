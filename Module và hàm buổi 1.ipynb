{
 "cells": [
  {
   "cell_type": "markdown",
   "id": "05948314",
   "metadata": {},
   "source": [
    "# Function"
   ]
  },
  {
   "cell_type": "markdown",
   "id": "3b68247e",
   "metadata": {},
   "source": [
    "## Function(hàm) là gì?"
   ]
  },
  {
   "cell_type": "markdown",
   "id": "cf84a685",
   "metadata": {},
   "source": [
    "Hàm (function) là một khối lệnh đặc biệt, nó được đặt tên, giúp mã chương trình dễ đọc hơn, và có thể gọi để sử dụng ở các nơi khác nhau trong chương trình. Hàm chính là khối lệnh có thể tái sử dụng (reuseable)."
   ]
  },
  {
   "cell_type": "markdown",
   "id": "18f95aa8",
   "metadata": {},
   "source": [
    "### Ví dụ: Hàm in"
   ]
  },
  {
   "cell_type": "code",
   "execution_count": 2,
   "id": "0d5f66b5",
   "metadata": {},
   "outputs": [
    {
     "name": "stdout",
     "output_type": "stream",
     "text": [
      "Hello\n"
     ]
    }
   ],
   "source": [
    "print (\"Hello\")"
   ]
  },
  {
   "cell_type": "markdown",
   "id": "29c55e2b",
   "metadata": {},
   "source": [
    "### Ví dụ: Hàm tính giá trị tuyệt đối"
   ]
  },
  {
   "cell_type": "code",
   "execution_count": 5,
   "id": "e492700a",
   "metadata": {},
   "outputs": [
    {
     "name": "stdout",
     "output_type": "stream",
     "text": [
      "10\n"
     ]
    }
   ],
   "source": [
    "import math\n",
    "print (abs(-10))"
   ]
  },
  {
   "cell_type": "markdown",
   "id": "07fa617d",
   "metadata": {},
   "source": [
    "### Ví dụ: Hàm vẽ hình tròn"
   ]
  },
  {
   "cell_type": "code",
   "execution_count": null,
   "id": "2a2dec85",
   "metadata": {},
   "outputs": [],
   "source": []
  },
  {
   "cell_type": "markdown",
   "id": "c4575e29",
   "metadata": {},
   "source": [
    "## Xây dựng và sử dụng hàm trong python"
   ]
  },
  {
   "cell_type": "markdown",
   "id": "00ac6720",
   "metadata": {},
   "source": [
    "### Hàm say_hello"
   ]
  },
  {
   "cell_type": "code",
   "execution_count": null,
   "id": "47575691",
   "metadata": {},
   "outputs": [],
   "source": [
    "def say_hello():\n",
    "    print (\"What\")\n",
    "    print (\"Who\")\n",
    "say_hello()"
   ]
  },
  {
   "cell_type": "markdown",
   "id": "f9b6f894",
   "metadata": {},
   "source": [
    "### Hàm vẽ cây thông"
   ]
  },
  {
   "cell_type": "code",
   "execution_count": 1,
   "id": "7ffc1c65",
   "metadata": {},
   "outputs": [],
   "source": [
    "import turtle as t\n",
    "def shape():\n",
    "    t.fillcolor(\"green\")\n",
    "    t.begin_fill()\n",
    "    t.circle(100, steps = 3)\n",
    "    t.end_fill()\n",
    "   \n",
    "shape()\n",
    "t.done()"
   ]
  },
  {
   "cell_type": "markdown",
   "id": "77fa1ef1",
   "metadata": {},
   "source": [
    "## doc_string cho hàm"
   ]
  },
  {
   "cell_type": "code",
   "execution_count": 2,
   "id": "8dcf448b",
   "metadata": {},
   "outputs": [
    {
     "ename": "SyntaxError",
     "evalue": "invalid syntax (Temp/ipykernel_12804/2696155251.py, line 2)",
     "output_type": "error",
     "traceback": [
      "\u001b[1;36m  File \u001b[1;32m\"C:\\Users\\HP\\AppData\\Local\\Temp/ipykernel_12804/2696155251.py\"\u001b[1;36m, line \u001b[1;32m2\u001b[0m\n\u001b[1;33m    def caculate_rectangle_perimeter(:)\u001b[0m\n\u001b[1;37m                                     ^\u001b[0m\n\u001b[1;31mSyntaxError\u001b[0m\u001b[1;31m:\u001b[0m invalid syntax\n"
     ]
    }
   ],
   "source": [
    "# Hàm tính chu vi hình chữ nhật\n",
    "def caculate_rectangle_perimeter():\n",
    "    \n",
    "    "
   ]
  },
  {
   "cell_type": "code",
   "execution_count": 4,
   "id": "a7dc57e9",
   "metadata": {},
   "outputs": [
    {
     "name": "stdout",
     "output_type": "stream",
     "text": [
      "\n",
      "    Hàm student dùng để xếp loại học sinh.\n",
      "    Nhập vào: Họ và tên học sinh, điểm các môn học.\n",
      "    Tính điểm trung bình các môn.\n",
      "    Nếu điểm trung bình < 5, in ra: học sinh trung bình.\n",
      "    Nếu điểm trung bình >= 5 và < 6.5, in ra: học sinh khá.\n",
      "    Nếu điểm trung bình  6.5, in ra: học sinh giỏi.\n",
      "    \n"
     ]
    }
   ],
   "source": [
    "# Hàm xếp loại học sinh\n",
    "def student():\n",
    "    '''\n",
    "    Hàm student dùng để xếp loại học sinh.\n",
    "    Nhập vào: Họ và tên học sinh, điểm các môn học.\n",
    "    Tính điểm trung bình các môn.\n",
    "    Nếu điểm trung bình < 5, in ra: học sinh trung bình.\n",
    "    Nếu điểm trung bình >= 5 và < 6.5, in ra: học sinh khá.\n",
    "    Nếu điểm trung bình  6.5, in ra: học sinh giỏi.\n",
    "    '''\n",
    "    pass\n",
    "print (student.__doc__)"
   ]
  },
  {
   "cell_type": "markdown",
   "id": "0c5f3f35",
   "metadata": {},
   "source": [
    "## Phạm vi biến"
   ]
  },
  {
   "cell_type": "code",
   "execution_count": 7,
   "id": "b332222c",
   "metadata": {},
   "outputs": [
    {
     "name": "stdout",
     "output_type": "stream",
     "text": [
      "5\n",
      "10\n"
     ]
    }
   ],
   "source": [
    "# Hàm tính tổng các số từ 1 đến 10\n",
    "number = 10 # biến toàn cục global\n",
    "\n",
    "def process_number():\n",
    "    number = 5 # biến địa phương local\n",
    "    print (number)\n",
    "\n",
    "process_number()\n",
    "print (number)"
   ]
  },
  {
   "cell_type": "markdown",
   "id": "7407e8fe",
   "metadata": {},
   "source": [
    "## Đối số của hàm"
   ]
  },
  {
   "cell_type": "code",
   "execution_count": 9,
   "id": "f5787950",
   "metadata": {},
   "outputs": [
    {
     "name": "stdout",
     "output_type": "stream",
     "text": [
      "1728000\n"
     ]
    }
   ],
   "source": [
    "# Hàm tính thể tích hình lập phương\n",
    "def caculate_cube_volume(side):\n",
    "    print (side * side * side)\n",
    "    \n",
    "caculate_cube_volume(120)\n",
    "    "
   ]
  },
  {
   "cell_type": "code",
   "execution_count": 10,
   "id": "8d1bc23b",
   "metadata": {},
   "outputs": [
    {
     "name": "stdout",
     "output_type": "stream",
     "text": [
      "Học sinh khá\n"
     ]
    }
   ],
   "source": [
    "# Hàm xếp loại học sinh\n",
    "def student(diem):\n",
    "    if diem < 5:\n",
    "        print (\"Học sinh trung bình\")\n",
    "    elif 5 <= diem < 6.5:\n",
    "        print (\"Học sinh khá\")\n",
    "    else:\n",
    "        print (\"Học sinh giỏi\")\n",
    "\n",
    "student(6)"
   ]
  },
  {
   "cell_type": "markdown",
   "id": "4cb69485",
   "metadata": {},
   "source": [
    "## Giá trị trả về của hàm"
   ]
  },
  {
   "cell_type": "code",
   "execution_count": null,
   "id": "24592238",
   "metadata": {},
   "outputs": [],
   "source": [
    "# Hàm tính chiều dài của chuỗi"
   ]
  },
  {
   "cell_type": "code",
   "execution_count": null,
   "id": "56d947d8",
   "metadata": {},
   "outputs": [],
   "source": [
    "# Hàm tính lũy thừa"
   ]
  },
  {
   "cell_type": "code",
   "execution_count": null,
   "id": "0178d43e",
   "metadata": {},
   "outputs": [],
   "source": [
    "# Hàm kiểm tra năm nhuận"
   ]
  }
 ],
 "metadata": {
  "kernelspec": {
   "display_name": "Python 3 (ipykernel)",
   "language": "python",
   "name": "python3"
  },
  "language_info": {
   "codemirror_mode": {
    "name": "ipython",
    "version": 3
   },
   "file_extension": ".py",
   "mimetype": "text/x-python",
   "name": "python",
   "nbconvert_exporter": "python",
   "pygments_lexer": "ipython3",
   "version": "3.9.6"
  }
 },
 "nbformat": 4,
 "nbformat_minor": 5
}
