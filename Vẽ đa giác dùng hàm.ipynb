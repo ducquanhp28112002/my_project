{
 "cells": [
  {
   "cell_type": "code",
   "execution_count": 1,
   "id": "73451f06",
   "metadata": {},
   "outputs": [],
   "source": [
    "import turtle as pen\n",
    "\n",
    "pen.hideturtle()\n",
    "pen.pencolor(\"red\")\n",
    "\n",
    "\n",
    "def draw(n, a):\n",
    "    pen.fillcolor(\"blue\")\n",
    "    pen.begin_fill()\n",
    "    pen.circle(a, steps = n)\n",
    "    pen.end_fill()\n",
    "    pen.done()\n",
    "\n",
    "draw(8, 100)"
   ]
  }
 ],
 "metadata": {
  "kernelspec": {
   "display_name": "Python 3 (ipykernel)",
   "language": "python",
   "name": "python3"
  },
  "language_info": {
   "codemirror_mode": {
    "name": "ipython",
    "version": 3
   },
   "file_extension": ".py",
   "mimetype": "text/x-python",
   "name": "python",
   "nbconvert_exporter": "python",
   "pygments_lexer": "ipython3",
   "version": "3.9.6"
  }
 },
 "nbformat": 4,
 "nbformat_minor": 5
}
