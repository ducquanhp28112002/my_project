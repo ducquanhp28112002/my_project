{
 "cells": [
  {
   "cell_type": "code",
   "execution_count": 33,
   "id": "334dfc6d",
   "metadata": {},
   "outputs": [],
   "source": [
    "from tkinter import *\n",
    "\n",
    "window = Tk()\n",
    "window.geometry(\"400x200\")\n",
    "\n",
    "message_label = Label(window, text = \"Please enter email and passward to login\")\n",
    "\n",
    "username_label = Label(window, text = \"Username\")\n",
    "\n",
    "password_label = Label(window, text = \"Password\")\n",
    "\n",
    "username_entry = Entry(window)\n",
    "\n",
    "password_entry = Entry(window)\n",
    "\n",
    "login_button = Button(window, text = \"Login\", command = None)"
   ]
  },
  {
   "cell_type": "markdown",
   "id": "4c559a90",
   "metadata": {},
   "source": [
    "## pack"
   ]
  },
  {
   "cell_type": "code",
   "execution_count": null,
   "id": "d6af98e3",
   "metadata": {},
   "outputs": [],
   "source": [
    "message_label.pack()\n",
    "username_label.pack()\n",
    "username_entry.pack()\n",
    "password_label.pack()\n",
    "password_entry.pack()\n",
    "login_button.pack()"
   ]
  },
  {
   "cell_type": "markdown",
   "id": "0093b00d",
   "metadata": {},
   "source": [
    "## grid"
   ]
  },
  {
   "cell_type": "code",
   "execution_count": 16,
   "id": "d89cd306",
   "metadata": {},
   "outputs": [],
   "source": [
    "message_label.grid(column = 1, row = 0)\n",
    "username_label.grid(column = 0, row = 1)\n",
    "username_entry.grid(column = 1, row = 1)\n",
    "password_label.grid(column = 0, row = 2)\n",
    "password_entry.grid(column = 1, row = 2)\n",
    "login_button.grid(column = 1, row = 3)"
   ]
  },
  {
   "cell_type": "markdown",
   "id": "f0a05577",
   "metadata": {},
   "source": [
    "## place"
   ]
  },
  {
   "cell_type": "code",
   "execution_count": 34,
   "id": "070e6374",
   "metadata": {},
   "outputs": [],
   "source": [
    "message_label.place(x = 80, y =10)\n",
    "username_label.place(x = 5, y = 50)\n",
    "password_label.place(x = 5, y = 70)\n",
    "username_entry.place(x = 80, y = 50)\n",
    "password_entry.place(x = 80, y = 70)\n",
    "login_button.place(x = 100, y =100)"
   ]
  },
  {
   "cell_type": "code",
   "execution_count": 35,
   "id": "8910dfcc",
   "metadata": {},
   "outputs": [],
   "source": [
    "window.mainloop()"
   ]
  }
 ],
 "metadata": {
  "kernelspec": {
   "display_name": "Python 3 (ipykernel)",
   "language": "python",
   "name": "python3"
  },
  "language_info": {
   "codemirror_mode": {
    "name": "ipython",
    "version": 3
   },
   "file_extension": ".py",
   "mimetype": "text/x-python",
   "name": "python",
   "nbconvert_exporter": "python",
   "pygments_lexer": "ipython3",
   "version": "3.9.6"
  }
 },
 "nbformat": 4,
 "nbformat_minor": 5
}
