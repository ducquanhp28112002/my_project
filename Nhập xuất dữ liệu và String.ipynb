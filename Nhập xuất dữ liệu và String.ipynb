{
 "cells": [
  {
   "cell_type": "markdown",
   "id": "7ac14915",
   "metadata": {},
   "source": [
    "# Nhập xuất dữ liệu và String\n",
    "## Cách nhập xuất dữ liệu"
   ]
  },
  {
   "cell_type": "markdown",
   "id": "0f202ae8",
   "metadata": {},
   "source": [
    "### Xuất dữ liệu ra màn hình\n",
    "Để in các nội dung mà chúng ta mong muốn ra màn hình, ta sử dụng lệnh print()"
   ]
  },
  {
   "cell_type": "code",
   "execution_count": 1,
   "id": "a6d3f260",
   "metadata": {},
   "outputs": [
    {
     "name": "stdout",
     "output_type": "stream",
     "text": [
      "python is very easy\n"
     ]
    }
   ],
   "source": [
    "# Ví dụ: In ra nội dung \"python is very easy\"\n",
    "print (\"python is very easy\")"
   ]
  },
  {
   "cell_type": "markdown",
   "id": "7733925a",
   "metadata": {},
   "source": [
    "### Các cách custom với lệnh print"
   ]
  },
  {
   "cell_type": "markdown",
   "id": "292ab570",
   "metadata": {},
   "source": [
    "Để in một nội dung kèm theo giá trị của biến, ta có các cách sau:"
   ]
  },
  {
   "cell_type": "code",
   "execution_count": 4,
   "id": "20ff912c",
   "metadata": {},
   "outputs": [],
   "source": [
    "# I love chocolate and hate sandwich\n",
    "food_1 = \"chocolate\"\n",
    "food_2 = \"sandwich\""
   ]
  },
  {
   "cell_type": "code",
   "execution_count": 2,
   "id": "6407a448",
   "metadata": {},
   "outputs": [
    {
     "name": "stdout",
     "output_type": "stream",
     "text": [
      "I love chocolate and hate sandwich\n"
     ]
    }
   ],
   "source": [
    "# In trực tiếp\n",
    "print (\"I love chocolate and hate sandwich\")"
   ]
  },
  {
   "cell_type": "code",
   "execution_count": 5,
   "id": "27d098b8",
   "metadata": {},
   "outputs": [
    {
     "name": "stdout",
     "output_type": "stream",
     "text": [
      "I love chocolate and I hate sandwich\n",
      "I love--chocolate--and I hate--sandwich\n"
     ]
    }
   ],
   "source": [
    "# In bằng cách ghép các nội dung với nhau\n",
    "print (\"I love\", food_1, \"and I hate\", food_2)\n",
    "print (\"I love\", food_1, \"and I hate\", food_2, sep='--') # sep là viết tắt của separate"
   ]
  },
  {
   "cell_type": "code",
   "execution_count": 6,
   "id": "717666f2",
   "metadata": {},
   "outputs": [
    {
     "name": "stdout",
     "output_type": "stream",
     "text": [
      "I love chocolate and I hate sandwich\n"
     ]
    }
   ],
   "source": [
    "# Sử dụng String Format\n",
    "print (f\"I love {food_1} and I hate {food_2}\")"
   ]
  },
  {
   "cell_type": "code",
   "execution_count": 7,
   "id": "c7276e05",
   "metadata": {},
   "outputs": [
    {
     "name": "stdout",
     "output_type": "stream",
     "text": [
      "I love chocolate and I hate sandwich "
     ]
    }
   ],
   "source": [
    "# Sử dụng nhiều lệnh print\n",
    "print (\"I love\", end=\" \")\n",
    "print (food_1, end=\" \")\n",
    "print (\"and I hate\", end=\" \")\n",
    "print (food_2, end=\" \")"
   ]
  },
  {
   "cell_type": "markdown",
   "id": "e10788fb",
   "metadata": {},
   "source": [
    "### Nhập dữ liệu\n",
    "Để nhập dữ liệu vào chương trình python, chúng ta sử dụng hàm input()"
   ]
  },
  {
   "cell_type": "code",
   "execution_count": 15,
   "id": "b8b8afd3",
   "metadata": {},
   "outputs": [
    {
     "name": "stdout",
     "output_type": "stream",
     "text": [
      "hello\n"
     ]
    },
    {
     "data": {
      "text/plain": [
       "'hello'"
      ]
     },
     "execution_count": 15,
     "metadata": {},
     "output_type": "execute_result"
    }
   ],
   "source": [
    "input()"
   ]
  },
  {
   "cell_type": "code",
   "execution_count": 19,
   "id": "db0b887c",
   "metadata": {},
   "outputs": [
    {
     "name": "stdout",
     "output_type": "stream",
     "text": [
      "Hãy nhập chiều dài hình chữ nhật: 10\n",
      "10\n",
      "<class 'int'>\n"
     ]
    }
   ],
   "source": [
    "chieu_dai = int(input (\"Hãy nhập chiều dài hình chữ nhật: \"))\n",
    "print (chieu_dai)\n",
    "print (type(chieu_dai))"
   ]
  },
  {
   "cell_type": "markdown",
   "id": "337f9c15",
   "metadata": {},
   "source": [
    "#### Thực hành: Viết chương trình nhập vào chiều dài và chiều rộng của hình chữ nhật, sau đó in ra chu vi và diện tích của hình chữ nhật đó"
   ]
  },
  {
   "cell_type": "code",
   "execution_count": 20,
   "id": "add68103",
   "metadata": {},
   "outputs": [
    {
     "name": "stdout",
     "output_type": "stream",
     "text": [
      "Chiều dài hình chữ nhật là: 5\n",
      "Chiều rộng hình chữ nhật là: 3\n"
     ]
    }
   ],
   "source": [
    "# Nhập các kích thước của hình chữ nhật\n",
    "chieu_dai = float(input(\"Chiều dài hình chữ nhật là: \"))\n",
    "chieu_rong = float(input(\"Chiều rộng hình chữ nhật là: \"))"
   ]
  },
  {
   "cell_type": "code",
   "execution_count": 21,
   "id": "7a1cd73e",
   "metadata": {},
   "outputs": [],
   "source": [
    "# Tính toán chu vi, diện tích\n",
    "chu_vi = (chieu_dai + chieu_rong) * 2\n",
    "dien_tich = chieu_dai * chieu_rong"
   ]
  },
  {
   "cell_type": "code",
   "execution_count": 23,
   "id": "d0adf735",
   "metadata": {},
   "outputs": [
    {
     "name": "stdout",
     "output_type": "stream",
     "text": [
      "Chu vi hình chũ nhật là:  16.0\n",
      "Diện tích hình chữ nhật là:  15.0\n"
     ]
    }
   ],
   "source": [
    "# In kết quả ra màn hình bằng 3 cách\n",
    "print (\"Chu vi hình chũ nhật là: \", chu_vi)\n",
    "print (\"Diện tích hình chữ nhật là: \", dien_tich)"
   ]
  },
  {
   "cell_type": "markdown",
   "id": "fb54cb77",
   "metadata": {},
   "source": [
    "#### Thực hành: Viết chương trình nhập vào số đo cạnh và mã màu của tam giác đều, sau đó sử dụng turtle để vẽ ra hình tam giác có số đo và màu tương ứng"
   ]
  },
  {
   "cell_type": "code",
   "execution_count": 9,
   "id": "7583b308",
   "metadata": {},
   "outputs": [
    {
     "name": "stdout",
     "output_type": "stream",
     "text": [
      "Nhập số đo cạnh của tam giác đều: 100\n",
      "red\n"
     ]
    }
   ],
   "source": [
    "r = int(input(\"Nhập số đo cạnh của tam giác đều: \"))\n",
    "color1 = input()\n",
    "import turtle as pen\n",
    "pen.fillcolor(color1)\n",
    "pen.begin_fill()\n",
    "pen.forward(r)\n",
    "pen.left(120)\n",
    "pen.forward(r)\n",
    "pen.left(120)\n",
    "pen.forward(r)\n",
    "pen.end_fill()\n",
    "pen.done()"
   ]
  },
  {
   "cell_type": "markdown",
   "id": "fa7cb208",
   "metadata": {},
   "source": [
    "## Cú pháp import"
   ]
  },
  {
   "cell_type": "markdown",
   "id": "ab2a2ea5",
   "metadata": {},
   "source": [
    "Để sử dụng một module từ bên ngoài, chúng ta sẽ sử dụng từ khóa import. Sau đây là ví dụ về một số cách import phổ biến."
   ]
  },
  {
   "cell_type": "markdown",
   "id": "bd6de377",
   "metadata": {},
   "source": [
    "### Random một giá trị ngẫu nhiên"
   ]
  },
  {
   "cell_type": "code",
   "execution_count": 16,
   "id": "ce5547f5",
   "metadata": {},
   "outputs": [
    {
     "name": "stdout",
     "output_type": "stream",
     "text": [
      "6\n"
     ]
    }
   ],
   "source": [
    "import random as r\n",
    "print (r.randint(0, 101))"
   ]
  },
  {
   "cell_type": "markdown",
   "id": "dfa93dc0",
   "metadata": {},
   "source": [
    "### Thực hiện các phép toán số học"
   ]
  },
  {
   "cell_type": "code",
   "execution_count": 20,
   "id": "4f06f722",
   "metadata": {},
   "outputs": [
    {
     "name": "stdout",
     "output_type": "stream",
     "text": [
      "3.141592653589793\n",
      "8.0\n"
     ]
    }
   ],
   "source": [
    "# import toàn bộ module\n",
    "import math as m\n",
    "print (m.pi)\n",
    "print (m.pow(2, 3))"
   ]
  },
  {
   "cell_type": "code",
   "execution_count": null,
   "id": "6b9e471b",
   "metadata": {},
   "outputs": [],
   "source": [
    "# import một phần trong module\n",
    "from math import pi"
   ]
  },
  {
   "cell_type": "markdown",
   "id": "391969e7",
   "metadata": {},
   "source": [
    "## Xử lý String trong python"
   ]
  },
  {
   "cell_type": "markdown",
   "id": "ab461669",
   "metadata": {},
   "source": [
    "### String là gì?\n",
    "String là một chuỗi gồm các ký tự Unicode"
   ]
  },
  {
   "cell_type": "markdown",
   "id": "94a27b90",
   "metadata": {},
   "source": [
    "### Khởi tạo một string"
   ]
  },
  {
   "cell_type": "code",
   "execution_count": 29,
   "id": "b14f4fcc",
   "metadata": {},
   "outputs": [],
   "source": [
    "# one-line string\n",
    "course = \"python\"\n",
    "name = \"Quân\""
   ]
  },
  {
   "cell_type": "code",
   "execution_count": 25,
   "id": "9cc506a7",
   "metadata": {},
   "outputs": [],
   "source": [
    "# multi-line string\n",
    "shape = '''\n",
    "1\n",
    "11\n",
    "'''"
   ]
  },
  {
   "cell_type": "markdown",
   "id": "8f4270fd",
   "metadata": {},
   "source": [
    "### Các thao tác phổ biến với string"
   ]
  },
  {
   "cell_type": "code",
   "execution_count": 26,
   "id": "c825f890",
   "metadata": {},
   "outputs": [
    {
     "name": "stdout",
     "output_type": "stream",
     "text": [
      "6\n",
      "6\n"
     ]
    }
   ],
   "source": [
    "# Kiểm tra độ dài string\n",
    "print (len(course))\n",
    "print (len(shape))"
   ]
  },
  {
   "cell_type": "code",
   "execution_count": 31,
   "id": "6de96621",
   "metadata": {},
   "outputs": [
    {
     "name": "stdout",
     "output_type": "stream",
     "text": [
      "o\n",
      "n\n"
     ]
    }
   ],
   "source": [
    "# Truy xuất ký tự bằng cơ chế indexing và reverse indexing\n",
    "print(course[4]) # Đánh index từ trái sang phải từ 0 và tăng dần\n",
    "print(name[-1]) # Đánh index từ phải sang trái từ -1 và giảm dần"
   ]
  },
  {
   "cell_type": "markdown",
   "id": "a4f949d9",
   "metadata": {},
   "source": [
    "#### Thực hành: Viết chương trình nhập vào một chuỗi bất kỳ, sau đó in ra ký tự đầu tiên và ký tự cuối cùng của chuỗi đó."
   ]
  },
  {
   "cell_type": "code",
   "execution_count": 37,
   "id": "14833f18",
   "metadata": {},
   "outputs": [
    {
     "name": "stdout",
     "output_type": "stream",
     "text": [
      "Nhập vào chuỗi: I love you\n",
      "I love you\n",
      "I\n",
      "u\n"
     ]
    }
   ],
   "source": [
    "chuoi = input(\"Nhập vào chuỗi: \")\n",
    "print(chuoi)\n",
    "print(chuoi[0])\n",
    "print(chuoi[-1])"
   ]
  },
  {
   "cell_type": "code",
   "execution_count": 41,
   "id": "9aad2f16",
   "metadata": {},
   "outputs": [
    {
     "name": "stdout",
     "output_type": "stream",
     "text": [
      "Student\n",
      "Nguyễn Đức Quân\n",
      "Python\n"
     ]
    }
   ],
   "source": [
    "# Cắt string theo index\n",
    "s = \"Nguyễn Đức Quân, Student, Python\"\n",
    "print (s[17:24])\n",
    "print (s[:15])\n",
    "print (s[26:])"
   ]
  },
  {
   "cell_type": "code",
   "execution_count": 44,
   "id": "6ec63f90",
   "metadata": {},
   "outputs": [
    {
     "name": "stdout",
     "output_type": "stream",
     "text": [
      "My name is Nguyễn Đức QuânI'm a StudentI'm studying Python\n",
      "StudentStudentStudentStudentStudent\n"
     ]
    }
   ],
   "source": [
    "# Ghép chuỗi và lặp chuỗi\n",
    "name = \"Nguyễn Đức Quân\"\n",
    "role = \"Student\"\n",
    "course = \"Python\"\n",
    "content = \"My name is \" + name + \"I'm a \" + role + \"I'm studying \" + course \n",
    "print (content)\n",
    "print (role * 5)"
   ]
  },
  {
   "cell_type": "markdown",
   "id": "84c2dcb9",
   "metadata": {},
   "source": [
    "#### Thực hành: Xử lý và in ra các thông tin tương ứng trong chuỗi"
   ]
  },
  {
   "cell_type": "code",
   "execution_count": 49,
   "id": "cd71f135",
   "metadata": {},
   "outputs": [
    {
     "name": "stdout",
     "output_type": "stream",
     "text": [
      "CodeGym\n",
      "Python Fundamental\n",
      "lesson 6\n"
     ]
    }
   ],
   "source": [
    "s = \"CodeGym-Python Fundamental-lesson 6\"\n",
    "print (s[:7])\n",
    "print (s[8: 26])\n",
    "print (s[27:])"
   ]
  },
  {
   "cell_type": "markdown",
   "id": "7cbd965f",
   "metadata": {},
   "source": [
    "### Các hàm thông dụng khi xử lý string"
   ]
  },
  {
   "cell_type": "code",
   "execution_count": null,
   "id": "eb5932a1",
   "metadata": {},
   "outputs": [],
   "source": [
    "# len"
   ]
  },
  {
   "cell_type": "code",
   "execution_count": null,
   "id": "6bef6d33",
   "metadata": {},
   "outputs": [],
   "source": [
    "# count"
   ]
  },
  {
   "cell_type": "code",
   "execution_count": null,
   "id": "1582bbd8",
   "metadata": {},
   "outputs": [],
   "source": [
    "# upper, lower"
   ]
  },
  {
   "cell_type": "code",
   "execution_count": null,
   "id": "0d08f708",
   "metadata": {},
   "outputs": [],
   "source": [
    "# lstrip, rstrip, strip"
   ]
  },
  {
   "cell_type": "code",
   "execution_count": null,
   "id": "62180d52",
   "metadata": {},
   "outputs": [],
   "source": [
    "# split"
   ]
  },
  {
   "cell_type": "markdown",
   "id": "032ba1fc",
   "metadata": {},
   "source": []
  }
 ],
 "metadata": {
  "kernelspec": {
   "display_name": "Python 3 (ipykernel)",
   "language": "python",
   "name": "python3"
  },
  "language_info": {
   "codemirror_mode": {
    "name": "ipython",
    "version": 3
   },
   "file_extension": ".py",
   "mimetype": "text/x-python",
   "name": "python",
   "nbconvert_exporter": "python",
   "pygments_lexer": "ipython3",
   "version": "3.9.6"
  }
 },
 "nbformat": 4,
 "nbformat_minor": 5
}
