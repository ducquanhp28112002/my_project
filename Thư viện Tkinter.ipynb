{
 "cells": [
  {
   "cell_type": "markdown",
   "id": "7637b45d",
   "metadata": {},
   "source": [
    "# Tkinter"
   ]
  },
  {
   "cell_type": "markdown",
   "id": "aef48c70",
   "metadata": {},
   "source": [
    "## Tkinter là gì?\n",
    "Tkinter là thư viện GUI tiêu chuẩn cho Python."
   ]
  },
  {
   "cell_type": "markdown",
   "id": "a555c9c5",
   "metadata": {},
   "source": [
    "## Các bước tạo ứng dụng Tkinter\n",
    "**Bước 1:** Import Tkinter module\n",
    "\n",
    "**Bước 2:** Tạo ra cửa số chính cho ứng dụng \n",
    "\n",
    "**Bước 3:** Thêm một số widget cho ứng dụng\n",
    "\n",
    "**Bước 4:** Tạo vòng lặp sự kiện chính để các hành động có thể diễn ra trên màn hình máy tính của người dùng\n"
   ]
  },
  {
   "cell_type": "markdown",
   "id": "f5a0f4e8",
   "metadata": {},
   "source": [
    "## Import Tkinter module"
   ]
  },
  {
   "cell_type": "code",
   "execution_count": 1,
   "id": "28a5f795",
   "metadata": {},
   "outputs": [],
   "source": [
    "from tkinter import *"
   ]
  },
  {
   "cell_type": "markdown",
   "id": "27f1704a",
   "metadata": {},
   "source": [
    "## Tạo ra cửa số cho ứng dụng"
   ]
  },
  {
   "cell_type": "code",
   "execution_count": 2,
   "id": "3063eaa3",
   "metadata": {},
   "outputs": [
    {
     "data": {
      "text/plain": [
       "''"
      ]
     },
     "execution_count": 2,
     "metadata": {},
     "output_type": "execute_result"
    }
   ],
   "source": [
    "windows = Tk()\n",
    "\n",
    "windows.title(\"Quan's group\")"
   ]
  },
  {
   "cell_type": "markdown",
   "id": "6a7f27d7",
   "metadata": {},
   "source": [
    "## Thêm widget cho ứng dụng"
   ]
  },
  {
   "cell_type": "code",
   "execution_count": 3,
   "id": "396c5f84",
   "metadata": {},
   "outputs": [],
   "source": [
    "content = Label(windows, text = \"Hello World\").pack()"
   ]
  },
  {
   "cell_type": "code",
   "execution_count": 4,
   "id": "f28d6fbc",
   "metadata": {},
   "outputs": [],
   "source": [
    "windows.mainloop()"
   ]
  },
  {
   "cell_type": "code",
   "execution_count": 75,
   "id": "65c5e367",
   "metadata": {},
   "outputs": [
    {
     "data": {
      "text/plain": [
       "''"
      ]
     },
     "execution_count": 75,
     "metadata": {},
     "output_type": "execute_result"
    }
   ],
   "source": [
    "# Khởi tạo cửa sổ tkinter\n",
    "from tkinter import *\n",
    "\n",
    "window = Tk()\n",
    "\n",
    "window.title(\"Demo Widgets\")\n",
    "window.geometry(\"500x500\")"
   ]
  },
  {
   "cell_type": "code",
   "execution_count": 83,
   "id": "6e433a04",
   "metadata": {},
   "outputs": [],
   "source": [
    "window.mainloop()"
   ]
  },
  {
   "cell_type": "markdown",
   "id": "50cf878f",
   "metadata": {},
   "source": [
    "## label"
   ]
  },
  {
   "cell_type": "code",
   "execution_count": 76,
   "id": "6826b7e0",
   "metadata": {},
   "outputs": [],
   "source": [
    "app_name = Label(window, text = \"Demo widget\")\n",
    "app_name.pack()"
   ]
  },
  {
   "cell_type": "code",
   "execution_count": 77,
   "id": "79ab7e7c",
   "metadata": {},
   "outputs": [],
   "source": [
    "lbl = Label(window, text = \"Label\")\n",
    "lbl.pack()"
   ]
  },
  {
   "cell_type": "markdown",
   "id": "fbf4ab01",
   "metadata": {},
   "source": [
    "## entry"
   ]
  },
  {
   "cell_type": "code",
   "execution_count": 78,
   "id": "a2292ca0",
   "metadata": {},
   "outputs": [],
   "source": [
    "et = Label(window, text = \"Entry\")\n",
    "et.pack()"
   ]
  },
  {
   "cell_type": "code",
   "execution_count": 79,
   "id": "a8dea346",
   "metadata": {},
   "outputs": [],
   "source": [
    "number = Entry(window)\n",
    "number.pack()"
   ]
  },
  {
   "cell_type": "code",
   "execution_count": 80,
   "id": "0a50f375",
   "metadata": {},
   "outputs": [],
   "source": [
    "def update_entry_text():\n",
    "    et.config(text = number.get())\n",
    "    \n",
    "update_button = Button(window, text = \"Click to update value\", command = update_entry_text)\n",
    "update_button.pack()"
   ]
  },
  {
   "cell_type": "markdown",
   "id": "220d3157",
   "metadata": {},
   "source": [
    "## button"
   ]
  },
  {
   "cell_type": "code",
   "execution_count": 81,
   "id": "5c2178cf",
   "metadata": {},
   "outputs": [],
   "source": [
    "btn = Label(window, text = \"Button\")\n",
    "btn.pack()"
   ]
  },
  {
   "cell_type": "code",
   "execution_count": 82,
   "id": "4376bd13",
   "metadata": {},
   "outputs": [],
   "source": [
    "def update_app_name():\n",
    "    app_name.config(text = \"Python Fundamental\")\n",
    "    \n",
    "change_text_button = Button(window, text = \"Click to update text\", command = update_app_name)\n",
    "change_text_button.pack()"
   ]
  },
  {
   "cell_type": "markdown",
   "id": "8bd06b13",
   "metadata": {},
   "source": [
    "## combobox"
   ]
  },
  {
   "cell_type": "code",
   "execution_count": null,
   "id": "74694770",
   "metadata": {},
   "outputs": [],
   "source": []
  },
  {
   "cell_type": "markdown",
   "id": "f5203893",
   "metadata": {},
   "source": [
    "## text"
   ]
  },
  {
   "cell_type": "code",
   "execution_count": null,
   "id": "f822f455",
   "metadata": {},
   "outputs": [],
   "source": []
  },
  {
   "cell_type": "markdown",
   "id": "7b58544c",
   "metadata": {},
   "source": [
    "## messagebox"
   ]
  },
  {
   "cell_type": "code",
   "execution_count": null,
   "id": "d721e682",
   "metadata": {},
   "outputs": [],
   "source": []
  },
  {
   "cell_type": "markdown",
   "id": "eebac94e",
   "metadata": {},
   "source": [
    "## checkbutton"
   ]
  },
  {
   "cell_type": "code",
   "execution_count": null,
   "id": "1e534acb",
   "metadata": {},
   "outputs": [],
   "source": []
  }
 ],
 "metadata": {
  "kernelspec": {
   "display_name": "Python 3 (ipykernel)",
   "language": "python",
   "name": "python3"
  },
  "language_info": {
   "codemirror_mode": {
    "name": "ipython",
    "version": 3
   },
   "file_extension": ".py",
   "mimetype": "text/x-python",
   "name": "python",
   "nbconvert_exporter": "python",
   "pygments_lexer": "ipython3",
   "version": "3.9.6"
  }
 },
 "nbformat": 4,
 "nbformat_minor": 5
}
