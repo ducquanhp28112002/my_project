{
 "cells": [
  {
   "cell_type": "code",
   "execution_count": 3,
   "id": "738cc012",
   "metadata": {},
   "outputs": [],
   "source": [
    "import turtle as pen\n",
    "\n",
    "r = 10\n",
    "\n",
    "pen.left(90)\n",
    "while True:\n",
    "    pen.circle(r, 180)\n",
    "    r += 5\n",
    "    if pen.distance((0,0)) > 100:\n",
    "        break\n",
    "pen.done()"
   ]
  }
 ],
 "metadata": {
  "kernelspec": {
   "display_name": "Python 3 (ipykernel)",
   "language": "python",
   "name": "python3"
  },
  "language_info": {
   "codemirror_mode": {
    "name": "ipython",
    "version": 3
   },
   "file_extension": ".py",
   "mimetype": "text/x-python",
   "name": "python",
   "nbconvert_exporter": "python",
   "pygments_lexer": "ipython3",
   "version": "3.9.6"
  }
 },
 "nbformat": 4,
 "nbformat_minor": 5
}
