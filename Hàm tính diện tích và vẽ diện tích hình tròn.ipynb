{
 "cells": [
  {
   "cell_type": "code",
   "execution_count": 1,
   "id": "5280ee8e",
   "metadata": {},
   "outputs": [
    {
     "name": "stdout",
     "output_type": "stream",
     "text": [
      "Nhập vào bán kính hình tròn: 100\n",
      "Diện tích hình tròn là:  986.9604401089358\n"
     ]
    }
   ],
   "source": [
    "import turtle as pen\n",
    "import math\n",
    "\n",
    "r = float(input(\"Nhập vào bán kính hình tròn: \"))\n",
    "\n",
    "pen.hideturtle()\n",
    "pen.pencolor(\"red\")\n",
    "\n",
    "    \n",
    "def area(r):\n",
    "    pi = math.pi\n",
    "    s = r * pi * pi\n",
    "    print (\"Diện tích hình tròn là: \", s)\n",
    "    \n",
    "area(r)\n",
    "\n",
    "def draw(r):\n",
    "    pen.circle(r)\n",
    "    pen.done()\n",
    "    \n",
    "draw(r)\n"
   ]
  }
 ],
 "metadata": {
  "kernelspec": {
   "display_name": "Python 3 (ipykernel)",
   "language": "python",
   "name": "python3"
  },
  "language_info": {
   "codemirror_mode": {
    "name": "ipython",
    "version": 3
   },
   "file_extension": ".py",
   "mimetype": "text/x-python",
   "name": "python",
   "nbconvert_exporter": "python",
   "pygments_lexer": "ipython3",
   "version": "3.9.6"
  }
 },
 "nbformat": 4,
 "nbformat_minor": 5
}
