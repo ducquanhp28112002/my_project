{
 "cells": [
  {
   "cell_type": "markdown",
   "id": "73282155",
   "metadata": {},
   "source": [
    "### Set là gì"
   ]
  },
  {
   "cell_type": "code",
   "execution_count": 26,
   "id": "eea9f57e",
   "metadata": {},
   "outputs": [
    {
     "name": "stdout",
     "output_type": "stream",
     "text": [
      "{1, 2, 3, 4, 'hi'}\n",
      "{'xin chao', 'hello', 'hi'}\n",
      "{(1, 5, 7), 5, 'hello'}\n"
     ]
    }
   ],
   "source": [
    "# Một set kiểu numbers\n",
    "set1 = {1, 2, 3, 4, \"hi\"}\n",
    "print(set1)    \n",
    " \n",
    "# Một set kiểu string\n",
    "set2 = {\"hello\", \"hi\", \"xin chao\"}\n",
    "print(set2)    \n",
    " \n",
    "# Set với kiểu dữ liệu hỗn hợp\n",
    "set3 = {\"hello\", 5, (1, 5, 7)}\n",
    "print(set3)   "
   ]
  },
  {
   "cell_type": "code",
   "execution_count": 27,
   "id": "57928327",
   "metadata": {},
   "outputs": [
    {
     "name": "stdout",
     "output_type": "stream",
     "text": [
      "{1, 'hieu'}\n"
     ]
    }
   ],
   "source": [
    "name = {'hieu', 'hieu', 1, 1}\n",
    "print(name)"
   ]
  },
  {
   "cell_type": "markdown",
   "id": "4ddaff52",
   "metadata": {},
   "source": [
    "### Truy cập các phần tử trong set\n"
   ]
  },
  {
   "cell_type": "code",
   "execution_count": 28,
   "id": "a6b41b36",
   "metadata": {},
   "outputs": [
    {
     "name": "stdout",
     "output_type": "stream",
     "text": [
      "8\n",
      "1\n",
      "3\n",
      "4\n"
     ]
    }
   ],
   "source": [
    "myset = {1, 3, 8, 4}\n",
    "for item in myset:\n",
    "    print(item)"
   ]
  },
  {
   "cell_type": "markdown",
   "id": "6db15f2c",
   "metadata": {},
   "source": [
    "### Thêm phần tử\n"
   ]
  },
  {
   "cell_type": "code",
   "execution_count": 40,
   "id": "cd264191",
   "metadata": {},
   "outputs": [
    {
     "ename": "TypeError",
     "evalue": "set.add() takes exactly one argument (2 given)",
     "output_type": "error",
     "traceback": [
      "\u001b[1;31m---------------------------------------------------------------------------\u001b[0m",
      "\u001b[1;31mTypeError\u001b[0m                                 Traceback (most recent call last)",
      "\u001b[1;32m~\\AppData\\Local\\Temp/ipykernel_6788/3011088633.py\u001b[0m in \u001b[0;36m<module>\u001b[1;34m\u001b[0m\n\u001b[0;32m      2\u001b[0m \u001b[1;33m\u001b[0m\u001b[0m\n\u001b[0;32m      3\u001b[0m \u001b[1;31m# Thêm một số vào set add\u001b[0m\u001b[1;33m\u001b[0m\u001b[1;33m\u001b[0m\u001b[1;33m\u001b[0m\u001b[0m\n\u001b[1;32m----> 4\u001b[1;33m \u001b[0mmyset\u001b[0m\u001b[1;33m.\u001b[0m\u001b[0madd\u001b[0m\u001b[1;33m(\u001b[0m\u001b[1;36m6\u001b[0m\u001b[1;33m,\u001b[0m \u001b[1;36m1\u001b[0m\u001b[1;33m)\u001b[0m\u001b[1;33m\u001b[0m\u001b[1;33m\u001b[0m\u001b[0m\n\u001b[0m\u001b[0;32m      5\u001b[0m \u001b[0mprint\u001b[0m\u001b[1;33m(\u001b[0m\u001b[0mmyset\u001b[0m\u001b[1;33m)\u001b[0m\u001b[1;33m\u001b[0m\u001b[1;33m\u001b[0m\u001b[0m\n\u001b[0;32m      6\u001b[0m \u001b[1;33m\u001b[0m\u001b[0m\n",
      "\u001b[1;31mTypeError\u001b[0m: set.add() takes exactly one argument (2 given)"
     ]
    }
   ],
   "source": [
    "myset = {4,8,7,5}\n",
    " \n",
    "# Thêm một số vào set add\n",
    "myset.add(6)\n",
    "print(myset) \n",
    "\n",
    "# Thêm một chuỗi cũng làm như thêm một số vậy\n",
    "myset.add(\"hello\")\n",
    "print(myset) "
   ]
  },
  {
   "cell_type": "code",
   "execution_count": 30,
   "id": "e89b9d87",
   "metadata": {},
   "outputs": [
    {
     "name": "stdout",
     "output_type": "stream",
     "text": [
      "{'hoai', 'y', 'l', 'n', 'h', 'hieu', 'r', 'j', 'anh', 'loc', 'i', 'a', 'o'}\n"
     ]
    }
   ],
   "source": [
    "# Cập nhật lại set (ngẫu nhiên) dùng update\n",
    "name = {'hieu', 'hoai', 'anh', 'loc'}\n",
    "name.update('john', 'lina', 'hary')\n",
    "print(name) "
   ]
  },
  {
   "cell_type": "markdown",
   "id": "8f3f5a71",
   "metadata": {},
   "source": [
    "### Loại bỏ phần tử\n"
   ]
  },
  {
   "cell_type": "code",
   "execution_count": 32,
   "id": "663d89db",
   "metadata": {},
   "outputs": [
    {
     "ename": "KeyError",
     "evalue": "'bana'",
     "output_type": "error",
     "traceback": [
      "\u001b[1;31m---------------------------------------------------------------------------\u001b[0m",
      "\u001b[1;31mKeyError\u001b[0m                                  Traceback (most recent call last)",
      "\u001b[1;32m~\\AppData\\Local\\Temp/ipykernel_6788/2534194568.py\u001b[0m in \u001b[0;36m<module>\u001b[1;34m\u001b[0m\n\u001b[0;32m      2\u001b[0m \u001b[0mthisset\u001b[0m \u001b[1;33m=\u001b[0m \u001b[1;33m{\u001b[0m\u001b[1;34m\"apple\"\u001b[0m\u001b[1;33m,\u001b[0m \u001b[1;34m\"banana\"\u001b[0m\u001b[1;33m,\u001b[0m \u001b[1;34m\"cherry\"\u001b[0m\u001b[1;33m}\u001b[0m\u001b[1;33m\u001b[0m\u001b[1;33m\u001b[0m\u001b[0m\n\u001b[0;32m      3\u001b[0m \u001b[1;31m# Xóa phần tử \"banana\"\u001b[0m\u001b[1;33m\u001b[0m\u001b[1;33m\u001b[0m\u001b[1;33m\u001b[0m\u001b[0m\n\u001b[1;32m----> 4\u001b[1;33m \u001b[0mthisset\u001b[0m\u001b[1;33m.\u001b[0m\u001b[0mremove\u001b[0m\u001b[1;33m(\u001b[0m\u001b[1;34m\"bana\"\u001b[0m\u001b[1;33m)\u001b[0m\u001b[1;33m\u001b[0m\u001b[1;33m\u001b[0m\u001b[0m\n\u001b[0m\u001b[0;32m      5\u001b[0m \u001b[0mprint\u001b[0m\u001b[1;33m(\u001b[0m\u001b[0mthisset\u001b[0m\u001b[1;33m)\u001b[0m\u001b[1;33m\u001b[0m\u001b[1;33m\u001b[0m\u001b[0m\n",
      "\u001b[1;31mKeyError\u001b[0m: 'bana'"
     ]
    }
   ],
   "source": [
    "# Hàm remove (xóa một phần tử bất kỳ mà ta chọn, khi phần tử không có trong set sẽ báo lỗi)\n",
    "thisset = {\"apple\", \"banana\", \"cherry\"}\n",
    "# Xóa phần tử \"banana\"\n",
    "thisset.remove(\"bana\")\n",
    "print(thisset)"
   ]
  },
  {
   "cell_type": "code",
   "execution_count": 34,
   "id": "7ebbcc07",
   "metadata": {},
   "outputs": [
    {
     "name": "stdout",
     "output_type": "stream",
     "text": [
      "{'banana', 'apple', 'cherry'}\n"
     ]
    }
   ],
   "source": [
    "# Hàm discard (xóa một phần tử bất kỳ mà ta chọn, khi phần tử không có trong set sẽ không báo lỗi)\n",
    "thisset = {\"apple\", \"banana\", \"cherry\"}\n",
    "thisset.discard(\"bana\")\n",
    "print(thisset)"
   ]
  },
  {
   "cell_type": "code",
   "execution_count": 35,
   "id": "f0815ac7",
   "metadata": {},
   "outputs": [
    {
     "name": "stdout",
     "output_type": "stream",
     "text": [
      "banana\n",
      "{'apple', 'cherry'}\n"
     ]
    }
   ],
   "source": [
    "# Hàm pop (xóa phần tử cuối cùng trong set)\n",
    "thisset = {\"apple\", \"banana\", \"cherry\"}\n",
    " \n",
    "x = thisset.pop()\n",
    "print(x)\n",
    " \n",
    "print(thisset)\n"
   ]
  },
  {
   "cell_type": "code",
   "execution_count": 36,
   "id": "126e1c39",
   "metadata": {},
   "outputs": [
    {
     "name": "stdout",
     "output_type": "stream",
     "text": [
      "set()\n"
     ]
    }
   ],
   "source": [
    "# Hàm clear (xóa toàn bộ các phần tử trong set)\n",
    "thisset = {\"apple\", \"banana\", \"cherry\"}\n",
    "thisset.clear()\n",
    "print(thisset)"
   ]
  },
  {
   "cell_type": "code",
   "execution_count": 37,
   "id": "aa880fdd",
   "metadata": {},
   "outputs": [
    {
     "ename": "NameError",
     "evalue": "name 'thisset' is not defined",
     "output_type": "error",
     "traceback": [
      "\u001b[1;31m---------------------------------------------------------------------------\u001b[0m",
      "\u001b[1;31mNameError\u001b[0m                                 Traceback (most recent call last)",
      "\u001b[1;32m~\\AppData\\Local\\Temp/ipykernel_6788/455752647.py\u001b[0m in \u001b[0;36m<module>\u001b[1;34m\u001b[0m\n\u001b[0;32m      2\u001b[0m \u001b[0mthisset\u001b[0m \u001b[1;33m=\u001b[0m \u001b[1;33m{\u001b[0m\u001b[1;34m\"apple\"\u001b[0m\u001b[1;33m,\u001b[0m \u001b[1;34m\"banana\"\u001b[0m\u001b[1;33m,\u001b[0m \u001b[1;34m\"cherry\"\u001b[0m\u001b[1;33m}\u001b[0m\u001b[1;33m\u001b[0m\u001b[1;33m\u001b[0m\u001b[0m\n\u001b[0;32m      3\u001b[0m \u001b[1;32mdel\u001b[0m \u001b[0mthisset\u001b[0m\u001b[1;33m\u001b[0m\u001b[1;33m\u001b[0m\u001b[0m\n\u001b[1;32m----> 4\u001b[1;33m \u001b[0mprint\u001b[0m\u001b[1;33m(\u001b[0m\u001b[0mthisset\u001b[0m\u001b[1;33m)\u001b[0m \u001b[1;31m# lỗi khi print\u001b[0m\u001b[1;33m\u001b[0m\u001b[1;33m\u001b[0m\u001b[0m\n\u001b[0m",
      "\u001b[1;31mNameError\u001b[0m: name 'thisset' is not defined"
     ]
    }
   ],
   "source": [
    "# Hàm del (xóa set)\n",
    "thisset = {\"apple\", \"banana\", \"cherry\"}\n",
    "del thisset\n",
    "print(thisset) # lỗi khi print"
   ]
  },
  {
   "cell_type": "markdown",
   "id": "eac3ff45",
   "metadata": {},
   "source": [
    "### Kiểm tra phần tử có trong set hay không\n"
   ]
  },
  {
   "cell_type": "code",
   "execution_count": 38,
   "id": "d47f0e26",
   "metadata": {},
   "outputs": [
    {
     "name": "stdout",
     "output_type": "stream",
     "text": [
      "True\n",
      "False\n",
      "True\n"
     ]
    }
   ],
   "source": [
    "thisset = {10, 15, 19, 14, \"hi\"}\n",
    " \n",
    "# Kiểm tra xem số 10 có trong set hay không\n",
    "print(10 in thisset)   \n",
    "\n",
    "# Kiểm tra xem số 15 có mặt không\n",
    "print(15 not in thisset) \n",
    "\n",
    "print(\"hi\" in thisset)"
   ]
  }
 ],
 "metadata": {
  "kernelspec": {
   "display_name": "Python 3 (ipykernel)",
   "language": "python",
   "name": "python3"
  },
  "language_info": {
   "codemirror_mode": {
    "name": "ipython",
    "version": 3
   },
   "file_extension": ".py",
   "mimetype": "text/x-python",
   "name": "python",
   "nbconvert_exporter": "python",
   "pygments_lexer": "ipython3",
   "version": "3.9.6"
  }
 },
 "nbformat": 4,
 "nbformat_minor": 5
}
