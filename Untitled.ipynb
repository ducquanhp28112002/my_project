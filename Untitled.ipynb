{
 "cells": [
  {
   "cell_type": "code",
   "execution_count": 5,
   "id": "ad19e6e4",
   "metadata": {},
   "outputs": [
    {
     "name": "stdout",
     "output_type": "stream",
     "text": [
      "Min number:  5\n"
     ]
    }
   ],
   "source": [
    "def get_min_numbers(numbers):\n",
    "    numbers = [8, 9, 5,7, 15, 10]\n",
    "    result = numbers[0]\n",
    "    for num in numbers:\n",
    "        if result > num:\n",
    "            result = num\n",
    "    return result\n",
    "\n",
    "min_number = get_min_numbers(numbers)\n",
    "print(\"Min number: \", min_number)"
   ]
  }
 ],
 "metadata": {
  "kernelspec": {
   "display_name": "Python 3 (ipykernel)",
   "language": "python",
   "name": "python3"
  },
  "language_info": {
   "codemirror_mode": {
    "name": "ipython",
    "version": 3
   },
   "file_extension": ".py",
   "mimetype": "text/x-python",
   "name": "python",
   "nbconvert_exporter": "python",
   "pygments_lexer": "ipython3",
   "version": "3.9.6"
  }
 },
 "nbformat": 4,
 "nbformat_minor": 5
}
