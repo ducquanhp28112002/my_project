{
 "cells": [
  {
   "cell_type": "code",
   "execution_count": null,
   "id": "ad34054e",
   "metadata": {},
   "outputs": [
    {
     "name": "stdout",
     "output_type": "stream",
     "text": [
      "Tiếng Anh của 'Con ngựa' là: \n",
      "horse\n",
      "Đúng\n",
      "Nhập 0 để tiếp tục : 0\n",
      "Tiếng Anh của 'Con khỉ' là: \n",
      "monkey\n",
      "Đúng\n",
      "Nhập 0 để tiếp tục : 0\n",
      "Tiếng Anh của 'Con mèo' là: \n",
      "cat\n",
      "Đúng\n",
      "Nhập 0 để tiếp tục : 0\n",
      "Tiếng Anh của 'Con thỏ' là: \n",
      "rabbit\n",
      "Đúng\n",
      "Nhập 0 để tiếp tục : 0\n",
      "Tiếng Anh của 'Con ngựa' là: \n",
      "horse\n",
      "Đúng\n",
      "Nhập 0 để tiếp tục : 0\n",
      "Tiếng Anh của 'Con lừa' là: \n",
      "donkey\n",
      "Đúng\n",
      "Nhập 0 để tiếp tục : 0\n",
      "Tiếng Anh của 'Con khỉ' là: \n",
      "monkey\n",
      "Đúng\n"
     ]
    }
   ],
   "source": [
    "import random\n",
    "\n",
    "class flashcard:\n",
    "    def __init__(self):\n",
    "\n",
    "        self.animals = {'Con ong': 'bee',\n",
    "                        'Con thỏ': 'rabbit',\n",
    "                        'Con cua': 'crab',\n",
    "                        'Con mèo': 'cat',\n",
    "                        'Con ngựa': 'horse',\n",
    "                        'Con khỉ': 'monkey',\n",
    "                        'Con lừa': 'donkey'}\n",
    "    def quiz(self):\n",
    "        while True:\n",
    "\n",
    "            vietnamese, english = random.choice(list(self.animals.items()))\n",
    "\n",
    "            print(\"Tiếng Anh của '{}' là: \".format(vietnamese))\n",
    "            user_answer = input()\n",
    "\n",
    "            if user_answer.lower() == english:\n",
    "                print(\"Đúng\")\n",
    "            else:\n",
    "                print(\"Sai\")\n",
    "\n",
    "            option = int(input(\"Nhập 0 để tiếp tục : \"))\n",
    "            if option:\n",
    "                break\n",
    "        print(\"Kết thúc\")\n",
    "        \n",
    "fc = flashcard()\n",
    "fc.quiz()"
   ]
  }
 ],
 "metadata": {
  "kernelspec": {
   "display_name": "Python 3 (ipykernel)",
   "language": "python",
   "name": "python3"
  },
  "language_info": {
   "codemirror_mode": {
    "name": "ipython",
    "version": 3
   },
   "file_extension": ".py",
   "mimetype": "text/x-python",
   "name": "python",
   "nbconvert_exporter": "python",
   "pygments_lexer": "ipython3",
   "version": "3.9.6"
  }
 },
 "nbformat": 4,
 "nbformat_minor": 5
}
