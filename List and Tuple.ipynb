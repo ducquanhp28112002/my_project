{
 "cells": [
  {
   "cell_type": "markdown",
   "metadata": {},
   "source": [
    "## Review: type()"
   ]
  },
  {
   "cell_type": "code",
   "execution_count": 1,
   "metadata": {},
   "outputs": [
    {
     "name": "stdout",
     "output_type": "stream",
     "text": [
      "<class 'int'>\n"
     ]
    }
   ],
   "source": [
    "# Python có 4 kiểu dữ liệu cơ bản\n",
    "integer = 4\n",
    "float1 = 4.29596\n",
    "string = \"hello\"\n",
    "boolean = True\n",
    "\n",
    "print (type(integer))"
   ]
  },
  {
   "cell_type": "markdown",
   "metadata": {},
   "source": [
    "## list là gì?"
   ]
  },
  {
   "cell_type": "code",
   "execution_count": 6,
   "metadata": {},
   "outputs": [
    {
     "name": "stdout",
     "output_type": "stream",
     "text": [
      "Members in group: An, Bình, Cường, Dung, Đạt\n"
     ]
    }
   ],
   "source": [
    "# Ví dụ\n",
    "def print_group_name(name_1, name_2, name_3, name_4, name_5):\n",
    "    print (f\"Members in group: {name_1}, {name_2}, {name_3}, {name_4}, {name_5}\")\n",
    "\n",
    "print_group_name(\"An\", \"Bình\", \"Cường\", \"Dung\", \"Đạt\")"
   ]
  },
  {
   "cell_type": "code",
   "execution_count": 13,
   "metadata": {},
   "outputs": [
    {
     "name": "stdout",
     "output_type": "stream",
     "text": [
      "['An', 'Bình', 'Cường', 'Dung', 'Đạt', 123, 3.48, True]\n",
      "Cường\n",
      "['An', 'Bình', 'Cường', 'Dung', 'Đạt']\n",
      "This is python course\n"
     ]
    }
   ],
   "source": [
    "# Sử dụng list\n",
    "names = [\"An\", \"Bình\", \"Cường\", \"Dung\", \"Đạt\", 123, 3.48, True]\n",
    "print (names)\n",
    "print (names[2])\n",
    "print(names[:5])\n",
    "\n",
    "content = \"This is python course\"\n",
    "print (content)"
   ]
  },
  {
   "cell_type": "markdown",
   "metadata": {},
   "source": [
    "### Thực hành: Viết chương trình tạo ra một list các string khác nhau và đếm tổng số lượng string dài hơn 3 kí tự"
   ]
  },
  {
   "cell_type": "code",
   "execution_count": 15,
   "metadata": {},
   "outputs": [
    {
     "name": "stdout",
     "output_type": "stream",
     "text": [
      "3\n"
     ]
    }
   ],
   "source": [
    "list_string = [\"Tim\", \"Gan\", \"Mật\", \"Phèo\", \"Phổi\", \"Ruột\"]\n",
    "\n",
    "count = 0\n",
    "for i in range(len(list_string)):\n",
    "    if len(list_string[i]) > 3:\n",
    "        count += 1\n",
    "print(count)"
   ]
  },
  {
   "cell_type": "markdown",
   "metadata": {},
   "source": [
    "### Thực hành 2: Viết chương trình nhận vào 2 list và trả về True nếu 2 list có ít nhất 1 phần tử chung, ngược lại trả về False"
   ]
  },
  {
   "cell_type": "code",
   "execution_count": 37,
   "metadata": {},
   "outputs": [
    {
     "data": {
      "text/plain": [
       "False"
      ]
     },
     "execution_count": 37,
     "metadata": {},
     "output_type": "execute_result"
    }
   ],
   "source": [
    "list_1 = [1, 2, 6, 4, 5, 3]\n",
    "list_2 = [0, 7, 8, 9]\n",
    "\n",
    "def check():\n",
    "    for i in range(len(list_1)):\n",
    "        for j in range(len(list_2)):\n",
    "            if list_1[i] == list_2[j]:\n",
    "                return True\n",
    "    return False\n",
    "\n",
    "check()"
   ]
  },
  {
   "cell_type": "markdown",
   "metadata": {},
   "source": [
    "## Các thao tác cơ bản với list"
   ]
  },
  {
   "cell_type": "markdown",
   "metadata": {},
   "source": [
    "### Kiểm tra độ dài list"
   ]
  },
  {
   "cell_type": "code",
   "execution_count": 16,
   "metadata": {},
   "outputs": [
    {
     "name": "stdout",
     "output_type": "stream",
     "text": [
      "4\n"
     ]
    }
   ],
   "source": [
    "a = [1, 2, 3, 4]\n",
    "print(len(a))"
   ]
  },
  {
   "cell_type": "markdown",
   "metadata": {},
   "source": [
    "### Truy cập phần tử trên list"
   ]
  },
  {
   "cell_type": "code",
   "execution_count": 18,
   "metadata": {},
   "outputs": [
    {
     "name": "stdout",
     "output_type": "stream",
     "text": [
      "3\n",
      "3\n"
     ]
    }
   ],
   "source": [
    "a = [1, 2, 3, 4]\n",
    "print(a[2])\n",
    "print(a[-2])"
   ]
  },
  {
   "cell_type": "markdown",
   "metadata": {},
   "source": [
    "### Thực hành: Tạo một list 10 số tự nhiên và in ra các phần tử trong list"
   ]
  },
  {
   "cell_type": "code",
   "execution_count": 25,
   "metadata": {},
   "outputs": [
    {
     "name": "stdout",
     "output_type": "stream",
     "text": [
      "0 1 2 3 4 5 6 7 8 9 [8, 9]\n"
     ]
    }
   ],
   "source": [
    "numbers = [0, 1, 2, 3, 4, 5, 6, 7, 8, 9,]\n",
    "\n",
    "\n",
    "for i in range(len(numbers)):\n",
    "    print(i, end = \" \")\n"
   ]
  },
  {
   "cell_type": "markdown",
   "metadata": {},
   "source": [
    "### Thực hành 2: Tạo ra một list con chưa 2 phần tử cuối cùng từ list đã tạo ở trên"
   ]
  },
  {
   "cell_type": "code",
   "execution_count": 24,
   "metadata": {},
   "outputs": [
    {
     "name": "stdout",
     "output_type": "stream",
     "text": [
      "['Phổi', 'Ruột']\n"
     ]
    }
   ],
   "source": [
    "list_string = [\"Tim\", \"Gan\", \"Mật\", \"Phèo\", \"Phổi\", \"Ruột\"]\n",
    "\n",
    "print(list_string[-2:])"
   ]
  },
  {
   "cell_type": "markdown",
   "metadata": {},
   "source": [
    "### Cộng list"
   ]
  },
  {
   "cell_type": "code",
   "execution_count": 34,
   "metadata": {},
   "outputs": [
    {
     "name": "stdout",
     "output_type": "stream",
     "text": [
      "['salad', 'egg', 'tomato']\n",
      "['salad', 'egg', 'tomato', 'onion']\n",
      "['banana', 'apple', 'strawberry', 'orange', 'chicken', 'beef', 'fish']\n",
      "['Monday', 'Tuesday', 'Wednesday', 'Thursday', 'Friday', 'Saturday', 'Sunday']\n",
      "[1, 1, 1, 1, 1]\n"
     ]
    }
   ],
   "source": [
    "# append\n",
    "recipes = [\"salad\", \"egg\", \"tomato\"]\n",
    "print(recipes)\n",
    "\n",
    "recipes.append(\"onion\")\n",
    "print(recipes)\n",
    "\n",
    "#Phép cộng\n",
    "fruits = [\"banana\", \"apple\", \"strawberry\", \"orange\"]\n",
    "meats = [\"chicken\", \"beef\", \"fish\"]\n",
    "\n",
    "sum = fruits + meats\n",
    "print(sum)\n",
    "\n",
    "# extend\n",
    "working_days = [\"Monday\", \"Tuesday\", \"Wednesday\", \"Thursday\", \"Friday\"]\n",
    "working_days.extend([\"Saturday\", \"Sunday\"])\n",
    "print(working_days)\n",
    "\n",
    "print([1] * 5)"
   ]
  },
  {
   "cell_type": "markdown",
   "metadata": {},
   "source": [
    "### Thực hành: Thêm học sinh vào lớp"
   ]
  },
  {
   "cell_type": "code",
   "execution_count": 3,
   "metadata": {},
   "outputs": [
    {
     "name": "stdout",
     "output_type": "stream",
     "text": [
      "['An', 'Bình', 'Cường', 'Dung']\n",
      "['An', 'Bình', 'Cường', 'Dung', 'Đạt', 'Giang']\n"
     ]
    }
   ],
   "source": [
    "students = [\"An\", \"Bình\", \"Cường\"]\n",
    "\n",
    "# Thêm 1 học sinh\n",
    "students.append(\"Dung\")\n",
    "print(students)\n",
    "\n",
    "# Thêm nhiều học sinh\n",
    "students.extend([\"Đạt\", \"Giang\"])\n",
    "print(students)"
   ]
  },
  {
   "cell_type": "markdown",
   "metadata": {},
   "source": [
    "### Kiểm tra phần tử tồn tại trong list"
   ]
  },
  {
   "cell_type": "code",
   "execution_count": 18,
   "metadata": {},
   "outputs": [
    {
     "name": "stdout",
     "output_type": "stream",
     "text": [
      "30 có tồn tại trong list\n",
      "30 có tồn tại trong list\n",
      "2\n"
     ]
    }
   ],
   "source": [
    "a = [10, 20, 30, 40, 50, 10]\n",
    "\n",
    "# Vòng lặp\n",
    "for item in a:\n",
    "    if item == 30:\n",
    "        print(\"30 có tồn tại trong list\")\n",
    "        \n",
    "# in\n",
    "if 30 in a:\n",
    "    print(\"30 có tồn tại trong list\")\n",
    "else:\n",
    "    pass\n",
    "    \n",
    "# count\n",
    "print(a.count(10))"
   ]
  },
  {
   "cell_type": "markdown",
   "metadata": {},
   "source": [
    "### Xóa phần tử khỏi list"
   ]
  },
  {
   "cell_type": "code",
   "execution_count": 30,
   "metadata": {},
   "outputs": [
    {
     "name": "stdout",
     "output_type": "stream",
     "text": [
      "20\n",
      "[10, 30, 40, 50]\n",
      "[10, 40, 50]\n"
     ]
    }
   ],
   "source": [
    "# pop\n",
    "a = [10, 20, 30, 40, 50]\n",
    "print(a.pop(1))\n",
    "print(a)\n",
    "\n",
    "# del\n",
    "del a[1] # xóa phần tử tại vị trí chỉ định và không có return\n",
    "print(a)"
   ]
  },
  {
   "cell_type": "markdown",
   "metadata": {},
   "source": [
    "### Sắp xếp list"
   ]
  },
  {
   "cell_type": "code",
   "execution_count": 42,
   "metadata": {},
   "outputs": [
    {
     "name": "stdout",
     "output_type": "stream",
     "text": [
      "[595, 521, 289, 253, 185]\n",
      "-------------------------\n",
      "[185, 253, 289, 521, 595]\n",
      "[521, 253, 289, 595, 185]\n"
     ]
    }
   ],
   "source": [
    "a = [521, 253, 289, 595, 185]\n",
    "\n",
    "# sort sắp xếp lại list và làm thay đổi trực tiếp các phần tử\n",
    "a.sort(reverse = True)\n",
    "print(a)\n",
    "\n",
    "print(\"-------------------------\")\n",
    "\n",
    "# sorted sắp xếp lại list nhưng không làm thay đổi trực tiếp các phần tử\n",
    "a = [521, 253, 289, 595, 185]\n",
    "print(sorted(a))\n",
    "print(a)"
   ]
  },
  {
   "cell_type": "markdown",
   "metadata": {},
   "source": [
    "### Làm rỗng list"
   ]
  },
  {
   "cell_type": "code",
   "execution_count": 45,
   "metadata": {},
   "outputs": [
    {
     "name": "stdout",
     "output_type": "stream",
     "text": [
      "[]\n"
     ]
    }
   ],
   "source": [
    "# clear\n",
    "a = [10, 20, 30, 40, 50]\n",
    "a.clear()\n",
    "print(a)"
   ]
  },
  {
   "cell_type": "markdown",
   "metadata": {},
   "source": [
    "### Copy list"
   ]
  },
  {
   "cell_type": "code",
   "execution_count": 50,
   "metadata": {},
   "outputs": [
    {
     "name": "stdout",
     "output_type": "stream",
     "text": [
      "Giá trị của list a: [1, 2, 3]\n",
      "Giá trị của list b: [1, 2, 3]\n",
      "[1, 2, 3, 4]\n",
      "[1, 2, 3]\n"
     ]
    }
   ],
   "source": [
    "# copy \n",
    "a = [1, 2, 3]\n",
    "print(f\"Giá trị của list a: {a}\")\n",
    "\n",
    "b = a.copy()\n",
    "print(f\"Giá trị của list b: {b}\")\n",
    "\n",
    "a.append(4)\n",
    "print(a)\n",
    "print(b)"
   ]
  },
  {
   "cell_type": "markdown",
   "metadata": {},
   "source": [
    "## Tuple"
   ]
  },
  {
   "cell_type": "code",
   "execution_count": 57,
   "metadata": {},
   "outputs": [
    {
     "name": "stdout",
     "output_type": "stream",
     "text": [
      "<class 'tuple'>\n",
      "5\n",
      "(1, 2, 3, 'hello', True)\n",
      "(1, 2, 3)\n",
      "Quân\n",
      "Python\n"
     ]
    }
   ],
   "source": [
    "a = (1, 2, 3, \"hello\", True)\n",
    "print(type(a))\n",
    "print(len(a))\n",
    "print(a)\n",
    "\n",
    "# Tạo tuple từ list có sẵn\n",
    "tuple1 = tuple([1, 2, 3])\n",
    "print(tuple1)\n",
    "\n",
    "# unpacking\n",
    "info = (\"Quân\", \"Python\")\n",
    "name, course = info\n",
    "print(name)\n",
    "print(course)\n"
   ]
  }
 ],
 "metadata": {
  "kernelspec": {
   "display_name": "Python 3 (ipykernel)",
   "language": "python",
   "name": "python3"
  },
  "language_info": {
   "codemirror_mode": {
    "name": "ipython",
    "version": 3
   },
   "file_extension": ".py",
   "mimetype": "text/x-python",
   "name": "python",
   "nbconvert_exporter": "python",
   "pygments_lexer": "ipython3",
   "version": "3.9.6"
  }
 },
 "nbformat": 4,
 "nbformat_minor": 4
}
