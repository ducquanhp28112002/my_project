{
 "cells": [
  {
   "cell_type": "code",
   "execution_count": 1,
   "id": "1a51f63f",
   "metadata": {},
   "outputs": [
    {
     "name": "stdout",
     "output_type": "stream",
     "text": [
      "Nhập vào số nguyên: 102\n",
      "102 là số chẵn\n"
     ]
    }
   ],
   "source": [
    "number = int(input(\"Nhập vào số nguyên: \"))\n",
    "if number % 2 == 0:\n",
    "    print (f\"{number} là số chẵn\")\n",
    "else:\n",
    "    print (f\"{number} là số lẻ\")"
   ]
  }
 ],
 "metadata": {
  "kernelspec": {
   "display_name": "Python 3 (ipykernel)",
   "language": "python",
   "name": "python3"
  },
  "language_info": {
   "codemirror_mode": {
    "name": "ipython",
    "version": 3
   },
   "file_extension": ".py",
   "mimetype": "text/x-python",
   "name": "python",
   "nbconvert_exporter": "python",
   "pygments_lexer": "ipython3",
   "version": "3.9.6"
  }
 },
 "nbformat": 4,
 "nbformat_minor": 5
}
