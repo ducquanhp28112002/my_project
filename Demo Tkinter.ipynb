{
 "cells": [
  {
   "cell_type": "code",
   "execution_count": 1,
   "id": "a0f103f2",
   "metadata": {},
   "outputs": [],
   "source": [
    "from tkinter import *\n",
    "parent = Tk()\n",
    " \n",
    "redbutton = Button(parent, text = \"Red\", fg = \"red\")\n",
    "redbutton.pack(side = LEFT)\n",
    "greenbutton = Button(parent, text = \"Black\", fg = \"black\")\n",
    "greenbutton.pack(side = RIGHT)\n",
    "bluebutton = Button(parent, text = \"Blue\", fg = \"blue\")\n",
    "bluebutton.pack(side = TOP)\n",
    "blackbutton = Button(parent, text = \"Green\", fg = \"green\")\n",
    "blackbutton.pack(side = BOTTOM)\n",
    "parent.mainloop()"
   ]
  }
 ],
 "metadata": {
  "kernelspec": {
   "display_name": "Python 3 (ipykernel)",
   "language": "python",
   "name": "python3"
  },
  "language_info": {
   "codemirror_mode": {
    "name": "ipython",
    "version": 3
   },
   "file_extension": ".py",
   "mimetype": "text/x-python",
   "name": "python",
   "nbconvert_exporter": "python",
   "pygments_lexer": "ipython3",
   "version": "3.9.6"
  }
 },
 "nbformat": 4,
 "nbformat_minor": 5
}
