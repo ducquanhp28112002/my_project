{
 "cells": [
  {
   "cell_type": "code",
   "execution_count": 1,
   "id": "381a4183",
   "metadata": {},
   "outputs": [
    {
     "name": "stdout",
     "output_type": "stream",
     "text": [
      "Nhập vào số: 5\n",
      "Nhập vào số: 20\n",
      "Buzz\n",
      "Fizz\n",
      "7\n",
      "8\n",
      "Fizz\n",
      "Buzz\n",
      "11\n",
      "Fizz\n",
      "13\n",
      "14\n",
      "Fizz Buzz\n",
      "16\n",
      "17\n",
      "Fizz\n",
      "19\n",
      "Buzz\n"
     ]
    }
   ],
   "source": [
    "a = int(input(\"Nhập vào số: \"))\n",
    "b = int(input(\"Nhập vào số: \"))\n",
    "\n",
    "for i in range(a, b+1):\n",
    "    if i % 3 == 0 and i % 5 == 0:\n",
    "        print (\"Fizz Buzz\")\n",
    "    elif i % 3 == 0:\n",
    "        print (\"Fizz\")\n",
    "    elif i % 5 == 0:\n",
    "        print (\"Buzz\")\n",
    "    else:\n",
    "        print (i)"
   ]
  }
 ],
 "metadata": {
  "kernelspec": {
   "display_name": "Python 3 (ipykernel)",
   "language": "python",
   "name": "python3"
  },
  "language_info": {
   "codemirror_mode": {
    "name": "ipython",
    "version": 3
   },
   "file_extension": ".py",
   "mimetype": "text/x-python",
   "name": "python",
   "nbconvert_exporter": "python",
   "pygments_lexer": "ipython3",
   "version": "3.9.6"
  }
 },
 "nbformat": 4,
 "nbformat_minor": 5
}
