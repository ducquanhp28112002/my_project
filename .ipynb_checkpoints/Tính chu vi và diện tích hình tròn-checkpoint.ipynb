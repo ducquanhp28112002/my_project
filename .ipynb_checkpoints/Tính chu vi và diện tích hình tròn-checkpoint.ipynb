{
 "cells": [
  {
   "cell_type": "code",
   "execution_count": 7,
   "id": "64424b3b",
   "metadata": {},
   "outputs": [
    {
     "name": "stdout",
     "output_type": "stream",
     "text": [
      "Nhập vào bán kính: 100\n",
      "Chu vi hình tròn là:  628.3185307179587\n",
      "Diện tích hình tròn là:  986.9604401089358\n"
     ]
    }
   ],
   "source": [
    "r = int(input(\"Nhập vào bán kính: \"))\n",
    "from math import pi\n",
    "import turtle as t\n",
    "chu_vi = 2*pi*r\n",
    "dien_tich = pi*pi*r\n",
    "print (\"Chu vi hình tròn là: \", chu_vi)\n",
    "print (\"Diện tích hình tròn là: \", dien_tich)\n",
    "t.fillcolor(\"red\")\n",
    "t.begin_fill()\n",
    "t.circle(r)\n",
    "t.end_fill()\n",
    "t.done()"
   ]
  }
 ],
 "metadata": {
  "kernelspec": {
   "display_name": "Python 3 (ipykernel)",
   "language": "python",
   "name": "python3"
  },
  "language_info": {
   "codemirror_mode": {
    "name": "ipython",
    "version": 3
   },
   "file_extension": ".py",
   "mimetype": "text/x-python",
   "name": "python",
   "nbconvert_exporter": "python",
   "pygments_lexer": "ipython3",
   "version": "3.9.6"
  }
 },
 "nbformat": 4,
 "nbformat_minor": 5
}
