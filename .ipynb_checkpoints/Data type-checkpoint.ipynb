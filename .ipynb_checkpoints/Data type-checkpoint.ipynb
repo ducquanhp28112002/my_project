{
 "cells": [
  {
   "cell_type": "code",
   "execution_count": 3,
   "id": "9e72e509",
   "metadata": {},
   "outputs": [
    {
     "name": "stdout",
     "output_type": "stream",
     "text": [
      "28\n",
      "Quân\n",
      "True\n"
     ]
    }
   ],
   "source": [
    "#Khai báo biến \n",
    "number = 28\n",
    "print (number)\n",
    "name = \"Quân\"\n",
    "print (name)\n",
    "is_student = True\n",
    "print (is_student)"
   ]
  },
  {
   "cell_type": "code",
   "execution_count": 5,
   "id": "b9667480",
   "metadata": {},
   "outputs": [
    {
     "name": "stdout",
     "output_type": "stream",
     "text": [
      "<class 'str'>\n",
      "<class 'int'>\n",
      "<class 'bool'>\n"
     ]
    }
   ],
   "source": [
    "#Kiểu dữ liệu của biến\n",
    "print (type(name))\n",
    "print (type(number))\n",
    "print (type(is_student))"
   ]
  },
  {
   "cell_type": "code",
   "execution_count": 10,
   "id": "3a4db697",
   "metadata": {},
   "outputs": [
    {
     "data": {
      "text/plain": [
       "16"
      ]
     },
     "execution_count": 10,
     "metadata": {},
     "output_type": "execute_result"
    }
   ],
   "source": [
    "#Tính toán\n",
    "5 + 12\n",
    "12 - 6\n",
    "7 * 8\n",
    "6 / 2\n",
    "2 ** 3\n",
    "8 % 3\n",
    "145 // 9"
   ]
  },
  {
   "cell_type": "code",
   "execution_count": 15,
   "id": "0b9f67e6",
   "metadata": {},
   "outputs": [
    {
     "data": {
      "text/plain": [
       "True"
      ]
     },
     "execution_count": 15,
     "metadata": {},
     "output_type": "execute_result"
    }
   ],
   "source": [
    "#Toán tử so sánh\n",
    "5 == 3\n",
    "7 != 2\n",
    "2 > 5\n",
    "185 >= 52"
   ]
  },
  {
   "cell_type": "code",
   "execution_count": 27,
   "id": "f861e0f2",
   "metadata": {},
   "outputs": [
    {
     "name": "stdout",
     "output_type": "stream",
     "text": [
      "17\n"
     ]
    }
   ],
   "source": [
    "#Gán giá trị\n",
    "a = 5\n",
    "b = a + 12\n",
    "print (b)"
   ]
  },
  {
   "cell_type": "code",
   "execution_count": 18,
   "id": "ba3d3c0b",
   "metadata": {},
   "outputs": [
    {
     "name": "stdout",
     "output_type": "stream",
     "text": [
      "False\n"
     ]
    }
   ],
   "source": [
    "#Toán tử logic\n",
    "2 == 5 and 5 > 3\n",
    "2 == 5 or 5 > 3\n",
    "print (not is_student)"
   ]
  }
 ],
 "metadata": {
  "kernelspec": {
   "display_name": "Python 3 (ipykernel)",
   "language": "python",
   "name": "python3"
  },
  "language_info": {
   "codemirror_mode": {
    "name": "ipython",
    "version": 3
   },
   "file_extension": ".py",
   "mimetype": "text/x-python",
   "name": "python",
   "nbconvert_exporter": "python",
   "pygments_lexer": "ipython3",
   "version": "3.9.6"
  }
 },
 "nbformat": 4,
 "nbformat_minor": 5
}
