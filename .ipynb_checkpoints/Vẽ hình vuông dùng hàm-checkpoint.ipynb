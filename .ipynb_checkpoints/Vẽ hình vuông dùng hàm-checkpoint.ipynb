{
 "cells": [
  {
   "cell_type": "code",
   "execution_count": 3,
   "id": "2cb53fec",
   "metadata": {},
   "outputs": [],
   "source": [
    "import turtle as pen\n",
    "\n",
    "pen.hideturtle()\n",
    "pen. pencolor(\"blue\")\n",
    "\n",
    "def square(a):\n",
    "    for i in range(4):\n",
    "        pen.forward(a)\n",
    "        pen.left(90)\n",
    "    pen.done()\n",
    "    \n",
    "square(100)\n"
   ]
  }
 ],
 "metadata": {
  "kernelspec": {
   "display_name": "Python 3 (ipykernel)",
   "language": "python",
   "name": "python3"
  },
  "language_info": {
   "codemirror_mode": {
    "name": "ipython",
    "version": 3
   },
   "file_extension": ".py",
   "mimetype": "text/x-python",
   "name": "python",
   "nbconvert_exporter": "python",
   "pygments_lexer": "ipython3",
   "version": "3.9.6"
  }
 },
 "nbformat": 4,
 "nbformat_minor": 5
}
