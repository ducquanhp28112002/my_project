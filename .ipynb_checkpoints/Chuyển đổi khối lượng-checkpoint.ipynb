{
 "cells": [
  {
   "cell_type": "code",
   "execution_count": 17,
   "id": "7fa7f0cc",
   "metadata": {},
   "outputs": [],
   "source": [
    "from tkinter import *\n",
    "\n",
    "root = Tk()\n",
    "root.title(\"Chuyển đổi cân nặng\")\n",
    "root.geometry(\"400x100+100+100\")\n",
    "\n",
    "label1 = Label(root, text = \"Enter the weight in Kg\")\n",
    "label1.grid(column = 0, row = 0)\n",
    "\n",
    "entry1 = Entry(root, width = 20)\n",
    "entry1.grid(column = 1, row = 0)\n",
    "\n",
    "label2 = Label(root, text = \"Gram\")\n",
    "label2.grid(column = 0, row = 1)\n",
    "\n",
    "label3 = Label(root, text = \"Pounds\")\n",
    "label3.grid(column = 1, row = 1)\n",
    "\n",
    "label4 = Label(root, text = \"Ounce\")\n",
    "label4.grid(column = 2, row = 1)\n",
    "\n",
    "txt1 = Text(root, width = 10, height = 1)\n",
    "txt1.grid(column = 0, row = 2)\n",
    "\n",
    "txt2 = Text(root, width = 10, height = 1)\n",
    "txt2.grid(column = 1, row = 2)\n",
    "\n",
    "txt3 = Text(root, width = 10, height = 1)\n",
    "txt3.grid(column = 2, row = 2)\n",
    "\n",
    "def change():\n",
    "    gram = float(entry1.get()) * 100\n",
    "    pounds = float(entry1.get()) * 2.20462\n",
    "    ounce = float(entry1.get()) * 35.274\n",
    "    txt1.delete(\"1.0\", END)\n",
    "    txt1.insert(END, gram)\n",
    "    txt2.delete(\"1.0\", END)\n",
    "    txt2.insert(END, pounds)\n",
    "    txt3.delete(\"1.0\", END)\n",
    "    txt3.insert(END, ounce)\n",
    "\n",
    "\n",
    "button1 = Button(root, text = \"Covert\", command = change)\n",
    "button1.grid(column = 2, row = 0)\n",
    "\n",
    "\n",
    "root.mainloop()"
   ]
  }
 ],
 "metadata": {
  "kernelspec": {
   "display_name": "Python 3 (ipykernel)",
   "language": "python",
   "name": "python3"
  },
  "language_info": {
   "codemirror_mode": {
    "name": "ipython",
    "version": 3
   },
   "file_extension": ".py",
   "mimetype": "text/x-python",
   "name": "python",
   "nbconvert_exporter": "python",
   "pygments_lexer": "ipython3",
   "version": "3.9.6"
  }
 },
 "nbformat": 4,
 "nbformat_minor": 5
}
