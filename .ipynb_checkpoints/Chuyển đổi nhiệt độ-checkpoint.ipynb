{
 "cells": [
  {
   "cell_type": "code",
   "execution_count": 1,
   "id": "ec17ea8b",
   "metadata": {},
   "outputs": [
    {
     "name": "stdout",
     "output_type": "stream",
     "text": [
      "Nhiệt độ nhập vào là: 10\n",
      "Nhiệt độ sau quy đổi là:  50.0\n"
     ]
    }
   ],
   "source": [
    "C = input(\"Nhiệt độ nhập vào là: \")\n",
    "F = (9*(float(C))/5)+32\n",
    "print(\"Nhiệt độ sau quy đổi là: \", F)"
   ]
  }
 ],
 "metadata": {
  "kernelspec": {
   "display_name": "Python 3 (ipykernel)",
   "language": "python",
   "name": "python3"
  },
  "language_info": {
   "codemirror_mode": {
    "name": "ipython",
    "version": 3
   },
   "file_extension": ".py",
   "mimetype": "text/x-python",
   "name": "python",
   "nbconvert_exporter": "python",
   "pygments_lexer": "ipython3",
   "version": "3.9.6"
  }
 },
 "nbformat": 4,
 "nbformat_minor": 5
}
