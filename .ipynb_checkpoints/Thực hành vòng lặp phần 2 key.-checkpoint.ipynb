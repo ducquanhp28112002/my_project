{
 "cells": [
  {
   "cell_type": "code",
   "execution_count": 2,
   "id": "37d79bd6",
   "metadata": {},
   "outputs": [
    {
     "name": "stdout",
     "output_type": "stream",
     "text": [
      "1\n",
      "2\n",
      "3\n",
      "4\n",
      "5\n",
      "6\n",
      "7\n",
      "8\n",
      "9\n",
      "10\n"
     ]
    }
   ],
   "source": [
    "'''\n",
    "Warm-up: In ra 10 số tự nhiên đầu tiên từ 1 đến 10\n",
    "'''\n",
    "for i in range(1, 11):\n",
    "    print(i)"
   ]
  },
  {
   "cell_type": "code",
   "execution_count": null,
   "id": "066aaea1",
   "metadata": {},
   "outputs": [],
   "source": [
    "'''\n",
    "Bài 1: Nhập vào số nguyên dương n. Tính tổng các số tự nhiên từ 1 đến n.\n",
    "'''\n",
    "\n",
    "n = int(input(\"Nhập số nguyên dương n: \"))\n",
    "total = 0\n",
    "\n",
    "for i in range(1, n + 1):\n",
    "    total += i\n",
    "    \n",
    "print(f\"Tổng các số nguyên từ 1 đến {n} là: {total}\")"
   ]
  },
  {
   "cell_type": "code",
   "execution_count": null,
   "id": "9e3630a8",
   "metadata": {},
   "outputs": [],
   "source": [
    "'''\n",
    "Bài 2: Nhập vào số nguyên dương n. In ra bảng cửu chương từ 1 đến 10 của n.\n",
    "'''\n",
    "n = int(input(\"Nhập số nguyên dương n: \"))\n",
    "\n",
    "for i in range(1, 11):\n",
    "    print(f\"{i} * {n} = {i * n}\")"
   ]
  },
  {
   "cell_type": "code",
   "execution_count": null,
   "id": "7d28e06a",
   "metadata": {},
   "outputs": [],
   "source": [
    "'''\n",
    "Bài 3: Nhập vào số nguyên dương n. Đếm xem n có bao nhiêu chữ số.\n",
    "'''\n",
    "n1 = n = int(input(\"Nhập số nguyên dương n: \"))\n",
    "total_digit = 0\n",
    "\n",
    "while n > 0:\n",
    "    n = n // 10\n",
    "    total_digit += 1\n",
    "    \n",
    "print(f\"{n1} có {total_digit} chữ số\")"
   ]
  },
  {
   "cell_type": "code",
   "execution_count": null,
   "id": "c75e88b1",
   "metadata": {},
   "outputs": [],
   "source": [
    "'''\n",
    "Bài 4: Nhập vào số nguyên dương n. Tính tổng các chữ số của n.\n",
    "'''\n",
    "n1 = n = int(input(\"Nhập số nguyên dương n: \"))\n",
    "sum_digit = 0\n",
    "\n",
    "while n > 0:\n",
    "    sum_digit += n % 10\n",
    "    n = n // 10\n",
    "    \n",
    "print(f\"Tổng các chữ số của số {n1} là {sum_digit}\")"
   ]
  },
  {
   "cell_type": "code",
   "execution_count": null,
   "id": "3adc7240",
   "metadata": {},
   "outputs": [],
   "source": [
    "'''\n",
    "Bài 5: Nhập vào số nguyên dương n. Sử dụng cấu trúc vòng lặp lồng nhau(nested for loop) để in ra tam giác có dạng như sau:\n",
    "1\n",
    "1 2\n",
    "1 2 3\n",
    "1 2 3 4\n",
    "1 2 3 4 5\n",
    "'''\n",
    "n = int(input(\"Nhập chiều cao tam giác: \"))\n",
    "for i in range(1, n+1):\n",
    "    for j in range(1, i):\n",
    "        print(f\"{j} \", end=\"\")\n",
    "    print(i)"
   ]
  },
  {
   "cell_type": "code",
   "execution_count": null,
   "id": "96ec5ae2",
   "metadata": {},
   "outputs": [],
   "source": [
    "'''\n",
    "Bài 6: Nhập vào số nguyên dương n. Sử dụng cấu trúc vòng lặp lồng nhau(nested for loop) để in ra tam giác có dạng như sau:\n",
    "5 4 3 2 1\n",
    "4 3 2 1\n",
    "3 2 1\n",
    "2 1\n",
    "1\n",
    "'''\n",
    "n = int(input(\"Nhập vào chiều cao tam giác :\"))\n",
    "for i in range(n, 0, -1):\n",
    "    for j in range(i, 1, -1):\n",
    "        print(f\"{j} \", end =\"\")\n",
    "    \n",
    "    print(i)\n"
   ]
  },
  {
   "cell_type": "code",
   "execution_count": null,
   "id": "7c0a90b5",
   "metadata": {},
   "outputs": [],
   "source": [
    "'''\n",
    "Bài 7: Nhập vào một số nguyên dương n. Tính giai thừa của n.\n",
    "Note: Giai thừa của n được tính bằng công thức: n! = n*(n - 1)*(n - 2)*...*1\n",
    "Ví dụ: 5! = 5 × 4 × 3 × 2 × 1 = 120\n",
    "'''\n",
    "n = int(input(\"Nhập số nguyên dương n: \"))\n",
    "factorial = 1\n",
    "\n",
    "for i in range(2, n + 1):\n",
    "    factorial *= i\n",
    "    \n",
    "print(f\"Giai thừa của {n} là {factorial}\")"
   ]
  },
  {
   "cell_type": "code",
   "execution_count": null,
   "id": "86c45173",
   "metadata": {},
   "outputs": [],
   "source": [
    "'''\n",
    "Bài 8: Viết chương trình nhập vào một số nguyên dương n và in ra số đảo ngược của n.\n",
    "Ví dụ:\n",
    "Input: 76542\n",
    "Output: 24567\n",
    "'''\n",
    "\n",
    "n1 = n = int(input(\"Nhập số nguyên dương n: \"))\n",
    "\n",
    "while n > 0:\n",
    "    print(n%10, end=\"\")\n",
    "    n = n // 10"
   ]
  },
  {
   "cell_type": "code",
   "execution_count": null,
   "id": "eb214882",
   "metadata": {},
   "outputs": [],
   "source": [
    "'''\n",
    "Bài 9: Viết phần mềm nhập vào số n (từ 1 đến 9) và in ra tam giác có dạng như sau:\n",
    "1\n",
    "22\n",
    "333\n",
    "4444\n",
    "55555\n",
    "666666\n",
    "7777777\n",
    "88888888\n",
    "999999999\n",
    "'''\n",
    "\n",
    "n = int(input(\"Nhập vào chiều cao tam giác :\"))\n",
    "\n",
    "for i in range(1, n + 1):\n",
    "    for j in range(i):\n",
    "        print(i, end=\"\")\n",
    "    print()"
   ]
  },
  {
   "cell_type": "code",
   "execution_count": null,
   "id": "15332e97",
   "metadata": {},
   "outputs": [],
   "source": [
    "'''\n",
    "Bonus: Vẽ xe lửa\n",
    "What is the size of your train? 1\n",
    " ______________________>__\n",
    "|]||[]_[]_[]|||[]_[]_[]||[|\n",
    "\\==o-o======o-o======o-o==/\n",
    "\n",
    "What is the size of your train? 2\n",
    " _________________________   ______________________>__\n",
    "|]||[]_[]_[]|||[]_[]_[]||[| |]||[]_[]_[]|||[]_[]_[]||[|\n",
    "\\==o-o======o-o======o-o==/_\\==o-o======o-o======o-o==/\n",
    "'''\n",
    "\n",
    "size = int(input(\"What is the size of your train? \"))\n",
    "\n",
    "# in phần đầu\n",
    "print(' _________________________  ' * (size - 1) + ' ______________________>__')\n",
    "\n",
    "# in phần thân\n",
    "print('|]||[]_[]_[]|||[]_[]_[]||[| ' * (size))\n",
    "\n",
    "# in phần bánh xe\n",
    "print('\\==o-o======o-o======o-o==/_' * (size - 1) + '\\==o-o======o-o======o-o==/')"
   ]
  }
 ],
 "metadata": {
  "kernelspec": {
   "display_name": "Python 3 (ipykernel)",
   "language": "python",
   "name": "python3"
  },
  "language_info": {
   "codemirror_mode": {
    "name": "ipython",
    "version": 3
   },
   "file_extension": ".py",
   "mimetype": "text/x-python",
   "name": "python",
   "nbconvert_exporter": "python",
   "pygments_lexer": "ipython3",
   "version": "3.9.6"
  }
 },
 "nbformat": 4,
 "nbformat_minor": 5
}
