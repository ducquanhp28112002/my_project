{
 "cells": [
  {
   "cell_type": "code",
   "execution_count": 1,
   "id": "72b54cc7",
   "metadata": {},
   "outputs": [
    {
     "name": "stdout",
     "output_type": "stream",
     "text": [
      "96.8\n",
      "122.0\n",
      "10.399999999999999\n"
     ]
    }
   ],
   "source": [
    "def chance(c):\n",
    "    f = ((9 * c) / 5) + 32\n",
    "    print (f)\n",
    "    \n",
    "chance(36)\n",
    "chance(50)\n",
    "chance(-12)"
   ]
  }
 ],
 "metadata": {
  "kernelspec": {
   "display_name": "Python 3 (ipykernel)",
   "language": "python",
   "name": "python3"
  },
  "language_info": {
   "codemirror_mode": {
    "name": "ipython",
    "version": 3
   },
   "file_extension": ".py",
   "mimetype": "text/x-python",
   "name": "python",
   "nbconvert_exporter": "python",
   "pygments_lexer": "ipython3",
   "version": "3.9.6"
  }
 },
 "nbformat": 4,
 "nbformat_minor": 5
}
