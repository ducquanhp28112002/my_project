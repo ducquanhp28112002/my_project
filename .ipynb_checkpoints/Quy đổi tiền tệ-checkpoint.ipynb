{
 "cells": [
  {
   "cell_type": "code",
   "execution_count": 1,
   "id": "4dafd2ef",
   "metadata": {},
   "outputs": [
    {
     "name": "stdout",
     "output_type": "stream",
     "text": [
      "Nhập vào số tiền: 120\n",
      "Nhập vào tỉ giá: 23000\n",
      "Số tiền sau quy đổi là:  2760000\n"
     ]
    }
   ],
   "source": [
    "USD = int(input(\"Nhập vào số tiền: \"))\n",
    "ti_gia = int(input(\"Nhập vào tỉ giá: \"))\n",
    "VNĐ = USD * ti_gia\n",
    "print (\"Số tiền sau quy đổi là: \", VNĐ)"
   ]
  }
 ],
 "metadata": {
  "kernelspec": {
   "display_name": "Python 3 (ipykernel)",
   "language": "python",
   "name": "python3"
  },
  "language_info": {
   "codemirror_mode": {
    "name": "ipython",
    "version": 3
   },
   "file_extension": ".py",
   "mimetype": "text/x-python",
   "name": "python",
   "nbconvert_exporter": "python",
   "pygments_lexer": "ipython3",
   "version": "3.9.6"
  }
 },
 "nbformat": 4,
 "nbformat_minor": 5
}
