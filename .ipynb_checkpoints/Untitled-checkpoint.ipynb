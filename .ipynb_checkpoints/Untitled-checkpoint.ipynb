{
 "cells": [
  {
   "cell_type": "code",
   "execution_count": null,
   "id": "a6737a6e",
   "metadata": {},
   "outputs": [],
   "source": [
    "import random as ran\n",
    "print (\"Trò chơi bắt đầu\")\n",
    "n = 0\n",
    "\n",
    "while n < 22:\n",
    "    human = int(input((\"Người chơi chọn: \")))\n",
    "    n += human\n",
    "    if n == 22: print (\"Người thắng\")\n",
    "    computer =  ran.randint(1, 3)\n",
    "    print (\"Máy chọn\", computer)\n",
    "    n += computer\n",
    "    if n == 22: print (\"Máy thắng\")\n"
   ]
  }
 ],
 "metadata": {
  "kernelspec": {
   "display_name": "Python 3 (ipykernel)",
   "language": "python",
   "name": "python3"
  },
  "language_info": {
   "codemirror_mode": {
    "name": "ipython",
    "version": 3
   },
   "file_extension": ".py",
   "mimetype": "text/x-python",
   "name": "python",
   "nbconvert_exporter": "python",
   "pygments_lexer": "ipython3",
   "version": "3.9.6"
  }
 },
 "nbformat": 4,
 "nbformat_minor": 5
}
