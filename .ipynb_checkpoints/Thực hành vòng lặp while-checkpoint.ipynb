{
 "cells": [
  {
   "cell_type": "code",
   "execution_count": null,
   "id": "272a3a95",
   "metadata": {},
   "outputs": [],
   "source": [
    "'''\n",
    "Khởi động 1: Viết chương trình in ra tất cả các số chia hết cho cả 5 và 7 trong khoảng từ 1500 đến 2700\n",
    "'''\n",
    "n = 1500\n",
    "\n",
    "while n <= 1700:\n",
    "    if n % 5 == 0 and n % 7 == 0:\n",
    "        print (n)\n",
    "        n += 1"
   ]
  },
  {
   "cell_type": "code",
   "execution_count": null,
   "id": "18dbe371",
   "metadata": {},
   "outputs": [],
   "source": []
  },
  {
   "cell_type": "code",
   "execution_count": null,
   "id": "87f74c6c",
   "metadata": {},
   "outputs": [],
   "source": [
    "'''\n",
    "Bài 1: Viết chương trình nhập vào chiều cao tam giác vuông và in ra tam giác có hình dạng như sau:\n",
    "*****\n",
    "****\n",
    "***\n",
    "** \n",
    "*\n",
    "'''"
   ]
  },
  {
   "cell_type": "code",
   "execution_count": null,
   "id": "ea4c14a8",
   "metadata": {},
   "outputs": [],
   "source": [
    "'''\n",
    "Bài 2: Viết chương trình nhập vào chiều cao tam giác vuông và in ra tam giác có hình dạng như sau:\n",
    "* * * * * *\n",
    "* * * * *\n",
    "* * * *\n",
    "* * *\n",
    "* *\n",
    "*\n",
    "'''"
   ]
  },
  {
   "cell_type": "code",
   "execution_count": null,
   "id": "bd17e085",
   "metadata": {},
   "outputs": [],
   "source": [
    "'''\n",
    "Bài 3: Viết chương trình nhập vào chiều cao tam giác vuông và in ra tam giác có hình dạng như sau:\n",
    "* - * - *\n",
    "* - * -\n",
    "* - *\n",
    "* -\n",
    "*\n",
    "'''"
   ]
  },
  {
   "cell_type": "code",
   "execution_count": null,
   "id": "105b66bc",
   "metadata": {},
   "outputs": [],
   "source": [
    "'''\n",
    "Bài 4: Viết chương trình nhập vào một số nguyên n và in ra các số từ 1 đến n với các trường hợp ngoại lệ như sau:\n",
    "- Nếu số đó chia hết cho 3 thì in \"py\"\n",
    "- Nếu số đó chia hết cho 7 thì in \"thon\"\n",
    "- Nếu số đó chia hết cho cả 3 và 4 thì in \"python\"\n",
    "\n",
    "Ví dụ: n = 25\n",
    "1\n",
    "2\n",
    "py\n",
    "4\n",
    "5\n",
    "py\n",
    "thon\n",
    "8\n",
    "py\n",
    "10\n",
    "11\n",
    "py\n",
    "13\n",
    "thon\n",
    "py\n",
    "16\n",
    "17\n",
    "py\n",
    "19\n",
    "20\n",
    "python\n",
    "22\n",
    "23\n",
    "py\n",
    "25\n",
    "'''"
   ]
  },
  {
   "cell_type": "code",
   "execution_count": 5,
   "id": "3689744c",
   "metadata": {},
   "outputs": [
    {
     "ename": "SyntaxError",
     "evalue": "invalid syntax (Temp/ipykernel_22456/100879932.py, line 6)",
     "output_type": "error",
     "traceback": [
      "\u001b[1;36m  File \u001b[1;32m\"C:\\Users\\HP\\AppData\\Local\\Temp/ipykernel_22456/100879932.py\"\u001b[1;36m, line \u001b[1;32m6\u001b[0m\n\u001b[1;33m    f = 0\u001b[0m\n\u001b[1;37m    ^\u001b[0m\n\u001b[1;31mSyntaxError\u001b[0m\u001b[1;31m:\u001b[0m invalid syntax\n"
     ]
    }
   ],
   "source": [
    "'''\n",
    "Bài 5: Viết chương trình nhập vào một số và kiểm tra xem số đó có phải là số nguyên tố hay không\n",
    "Note: Số nguyên tố là số chỉ chia hết cho 1 và chính nó\n",
    "'''\n",
    "num = int(input(\"Nhập vào số nguyên: \")  \n",
    "f = 0\n",
    "i = 2\n",
    "\n",
    "while i <= num / 2:\n",
    "    if num % i == 0:\n",
    "        f = f + 1\n",
    "        break\n",
    "    i += 1\n",
    "    \n",
    "if f == 0:\n",
    "    print(\"Đây là số nguyên tố\")\n",
    "else:\n",
    "    print(\"Đây không là số nguyên tố\")\n",
    " "
   ]
  },
  {
   "cell_type": "code",
   "execution_count": 1,
   "id": "d76fa311",
   "metadata": {},
   "outputs": [
    {
     "name": "stdout",
     "output_type": "stream",
     "text": [
      "Moi lua chon: 2\n",
      "May chon:  1\n",
      "Nguoi choi thua\n",
      "Moi lua chon: 3\n",
      "May chon:  3\n",
      "Hoa\n",
      "Moi lua chon: 1\n",
      "May chon:  2\n",
      "Nguoi choi thang\n"
     ]
    }
   ],
   "source": [
    "'''\n",
    "Bài 6: Viết chương trình mô phỏng trò chơi kéo búa bao theo luật chơi như sau:\n",
    "Quy ước: 1 - búa, 2 - kéo, 3 - bao\n",
    "Khi trò chơi bắt đầu, yêu cầu người chơi nhập 1 số từ bàn phím đại diện cho kéo, búa, bao\n",
    "Chương trình tự random ra một lựa chọn từ 1 đến 3.\n",
    "Nếu người chơi thua thì tiếp tục chơi cho đến khi thắng thì kết thúc chương trình.\n",
    "Ví dụ:\n",
    "\n",
    "Mời lựa chọn(1 - búa, 2 - kéo, 3 - bao): 1\n",
    "Máy tính chọn: 3\n",
    "Người chơi thua.\n",
    "\n",
    "Mời lựa chọn(1 - búa, 2 - kéo, 3 - bao): 2\n",
    "Máy tính chọn: 1\n",
    "Người chơi thua.\n",
    "\n",
    "Mời lựa chọn(1 - búa, 2 - kéo, 3 - bao): 1\n",
    "Máy tính chọn: 2\n",
    "Người chơi thắng.\n",
    "'''\n",
    "import random as r\n",
    "\n",
    "while 1 == 1:\n",
    "    player = int(input(\"Moi lua chon: \"))\n",
    "    computer = r.randint(1, 3)\n",
    "    print(\"May chon: \", computer)\n",
    "    if player == computer:\n",
    "        print(\"Hoa\")\n",
    "        continue\n",
    "    if player + 1 == computer or (player == 3 and computer == 1):\n",
    "        print(\"Nguoi choi thang\")\n",
    "        break\n",
    "    else:\n",
    "        print(\"Nguoi choi thua\")"
   ]
  }
 ],
 "metadata": {
  "kernelspec": {
   "display_name": "Python 3 (ipykernel)",
   "language": "python",
   "name": "python3"
  },
  "language_info": {
   "codemirror_mode": {
    "name": "ipython",
    "version": 3
   },
   "file_extension": ".py",
   "mimetype": "text/x-python",
   "name": "python",
   "nbconvert_exporter": "python",
   "pygments_lexer": "ipython3",
   "version": "3.9.6"
  }
 },
 "nbformat": 4,
 "nbformat_minor": 5
}
