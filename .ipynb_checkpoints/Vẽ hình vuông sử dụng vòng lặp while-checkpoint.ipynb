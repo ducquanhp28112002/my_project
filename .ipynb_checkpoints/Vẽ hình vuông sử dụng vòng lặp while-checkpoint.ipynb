{
 "cells": [
  {
   "cell_type": "code",
   "execution_count": 5,
   "id": "3519108e",
   "metadata": {
    "scrolled": true
   },
   "outputs": [
    {
     "name": "stdout",
     "output_type": "stream",
     "text": [
      "Nhập vào độ dài cạnh hình vuông: 100\n"
     ]
    }
   ],
   "source": [
    "import turtle as t\n",
    "\n",
    "a = int(input(\"Nhập vào độ dài cạnh hình vuông: \"))\n",
    "count = 0\n",
    "\n",
    "\n",
    "t.fillcolor(\"red\")\n",
    "t.begin_fill()\n",
    "while count < 4:\n",
    "    t.forward(a)\n",
    "    t.left(90)\n",
    "    count += 1\n",
    "t.end_fill()\n",
    "t.done()"
   ]
  }
 ],
 "metadata": {
  "kernelspec": {
   "display_name": "Python 3 (ipykernel)",
   "language": "python",
   "name": "python3"
  },
  "language_info": {
   "codemirror_mode": {
    "name": "ipython",
    "version": 3
   },
   "file_extension": ".py",
   "mimetype": "text/x-python",
   "name": "python",
   "nbconvert_exporter": "python",
   "pygments_lexer": "ipython3",
   "version": "3.9.6"
  }
 },
 "nbformat": 4,
 "nbformat_minor": 5
}
