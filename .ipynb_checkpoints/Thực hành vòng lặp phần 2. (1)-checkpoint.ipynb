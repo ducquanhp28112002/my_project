{
 "cells": [
  {
   "cell_type": "code",
   "execution_count": 1,
   "id": "7c279d99",
   "metadata": {},
   "outputs": [
    {
     "name": "stdout",
     "output_type": "stream",
     "text": [
      "1\n",
      "2\n",
      "3\n",
      "4\n",
      "5\n",
      "6\n",
      "7\n",
      "8\n",
      "9\n",
      "10\n"
     ]
    }
   ],
   "source": [
    "'''\n",
    "Warm-up: In ra 10 số tự nhiên đầu tiên từ 1 đến 10\n",
    "'''\n",
    "for i in range(1, 11):\n",
    "    print (i)"
   ]
  },
  {
   "cell_type": "code",
   "execution_count": 3,
   "id": "66918d7e",
   "metadata": {},
   "outputs": [
    {
     "name": "stdout",
     "output_type": "stream",
     "text": [
      "Nhập vào số nguyên dương: 5\n",
      "15\n"
     ]
    }
   ],
   "source": [
    "'''\n",
    "Bài 1: Nhập vào số nguyên dương n. Tính tổng các số tự nhiên từ 1 đến n.\n",
    "'''\n",
    "n = int(input(\"Nhập vào số nguyên dương: \"))\n",
    "s = 0\n",
    "\n",
    "for i in range(1, n + 1):\n",
    "    s = s + i\n",
    "print (s)"
   ]
  },
  {
   "cell_type": "code",
   "execution_count": 19,
   "id": "be255bdc",
   "metadata": {},
   "outputs": [
    {
     "name": "stdout",
     "output_type": "stream",
     "text": [
      "Nhập vào số nguyên dương: 6\n",
      "6 * 1 = 6\n",
      "6 * 2 = 12\n",
      "6 * 3 = 18\n",
      "6 * 4 = 24\n",
      "6 * 5 = 30\n",
      "6 * 6 = 36\n",
      "6 * 7 = 42\n",
      "6 * 8 = 48\n",
      "6 * 9 = 54\n",
      "6 * 10 = 60\n"
     ]
    }
   ],
   "source": [
    "'''\n",
    "Bài 2: Nhập vào số nguyên dương n. In ra bảng cửu chương từ 1 đến 10 của n.\n",
    "'''\n",
    "n = int(input(\"Nhập vào số nguyên dương: \"))\n",
    "  \n",
    "for i in range(1, 11):\n",
    "    print(f\"{n} * {i} = {n * i}\")"
   ]
  },
  {
   "cell_type": "code",
   "execution_count": 1,
   "id": "681c029c",
   "metadata": {},
   "outputs": [
    {
     "name": "stdout",
     "output_type": "stream",
     "text": [
      "Nhập vào số nguyên dương: 123456\n",
      "Số đó có 6 chữ số\n"
     ]
    }
   ],
   "source": [
    "'''\n",
    "Bài 3: Nhập vào số nguyên dương n. Đếm xem n có bao nhiêu chữ số.\n",
    "'''\n",
    "n = int(input(\"Nhập vào số nguyên dương: \"))\n",
    "count = 0\n",
    "\n",
    "while n > 0:\n",
    "    n = n // 10\n",
    "    count += 1\n",
    "print (f\"Số đó có {count} chữ số\")"
   ]
  },
  {
   "cell_type": "code",
   "execution_count": null,
   "id": "7eb58122",
   "metadata": {},
   "outputs": [
    {
     "name": "stdout",
     "output_type": "stream",
     "text": [
      "Nhập vào số nguyên dương: 1234\n"
     ]
    }
   ],
   "source": [
    "'''\n",
    "Bài 4: Nhập vào số nguyên dương n. Tính tổng các chữ số của n.\n",
    "'''\n"
   ]
  },
  {
   "cell_type": "code",
   "execution_count": 3,
   "id": "cf0da697",
   "metadata": {},
   "outputs": [
    {
     "name": "stdout",
     "output_type": "stream",
     "text": [
      "Nhập vào số nguyên dương: 5\n",
      "1\n",
      "1 2\n",
      "1 2 3\n",
      "1 2 3 4\n",
      "1 2 3 4 5\n"
     ]
    }
   ],
   "source": [
    "'''\n",
    "Bài 5: Nhập vào số nguyên dương n. Sử dụng cấu trúc vòng lặp lồng nhau(nested for loop) để in ra tam giác có dạng như sau:\n",
    "1\n",
    "1 2\n",
    "1 2 3\n",
    "1 2 3 4\n",
    "1 2 3 4 5\n",
    "'''\n",
    "n = int(input(\"Nhập vào số nguyên dương: \"))\n",
    "\n",
    "for i in range(1, n + 1):\n",
    "    for j in range(1, i):\n",
    "        print (j, end = \" \")\n",
    "    print (i)"
   ]
  },
  {
   "cell_type": "code",
   "execution_count": 16,
   "id": "1ac5d880",
   "metadata": {},
   "outputs": [
    {
     "name": "stdout",
     "output_type": "stream",
     "text": [
      "Nhập vào số nguyên dương: 10\n",
      "10 9 8 7 6 5 4 3 2 1\n",
      "9 8 7 6 5 4 3 2 1\n",
      "8 7 6 5 4 3 2 1\n",
      "7 6 5 4 3 2 1\n",
      "6 5 4 3 2 1\n",
      "5 4 3 2 1\n",
      "4 3 2 1\n",
      "3 2 1\n",
      "2 1\n",
      "1\n"
     ]
    }
   ],
   "source": [
    "'''\n",
    "Bài 6: Nhập vào số nguyên dương n. Sử dụng cấu trúc vòng lặp lồng nhau(nested for loop) để in ra tam giác có dạng như sau:\n",
    "5 4 3 2 1\n",
    "4 3 2 1\n",
    "3 2 1\n",
    "2 1\n",
    "1\n",
    "'''\n",
    "n = int(input(\"Nhập vào số nguyên dương: \"))\n",
    "\n",
    "for i in range(n , 0, -1):\n",
    "    for j in range(i, 1, -1):\n",
    "        print (j, end = \" \")\n",
    "    print (1)"
   ]
  },
  {
   "cell_type": "code",
   "execution_count": 20,
   "id": "5a16aa66",
   "metadata": {},
   "outputs": [
    {
     "name": "stdout",
     "output_type": "stream",
     "text": [
      "Nhập vào số nguyên dương: 5\n",
      "5! = 120\n"
     ]
    }
   ],
   "source": [
    "'''\n",
    "Bài 7: Nhập vào một số nguyên dương n. Tính giai thừa của n.\n",
    "Note: Giai thừa của n được tính bằng công thức: n! = n*(n - 1)*(n - 2)*...*1\n",
    "Ví dụ: 5! = 5 × 4 × 3 × 2 × 1 = 120\n",
    "'''\n",
    "n = int(input(\"Nhập vào số nguyên dương: \"))\n",
    "s = 1\n",
    "\n",
    "for i in range(1, n + 1):\n",
    "    s = s * i\n",
    "print (f\"{n}! = {s}\")"
   ]
  },
  {
   "cell_type": "code",
   "execution_count": null,
   "id": "8dfa4890",
   "metadata": {},
   "outputs": [],
   "source": [
    "'''\n",
    "Bài 8: Viết chương trình nhập vào một số nguyên dương n và in ra số đảo ngược của n.\n",
    "Ví dụ:\n",
    "Input: 76542\n",
    "Output: 24567\n",
    "'''"
   ]
  },
  {
   "cell_type": "code",
   "execution_count": 21,
   "id": "326700db",
   "metadata": {},
   "outputs": [
    {
     "name": "stdout",
     "output_type": "stream",
     "text": [
      "Nhập vào số nguyên dương (từ 1 đến 9): 5\n",
      "1121231234"
     ]
    }
   ],
   "source": [
    "'''\n",
    "Bài 9: Viết phần mềm nhập vào số n (từ 1 đến 9) và in ra tam giác có dạng như sau:\n",
    "1\n",
    "22\n",
    "333\n",
    "4444\n",
    "55555\n",
    "666666\n",
    "7777777\n",
    "88888888\n",
    "999999999\n",
    "'''\n",
    "n = int(input(\"Nhập vào số nguyên dương (từ 1 đến 9): \"))\n",
    "\n",
    "for i in range(1, n + 1):\n",
    "    for j in range(1, i):\n",
    "        print (f\"{j}\", end = \"\")\n"
   ]
  },
  {
   "cell_type": "code",
   "execution_count": null,
   "id": "bfe2e17f",
   "metadata": {},
   "outputs": [],
   "source": [
    "'''\n",
    "Bonus: Vẽ xe lửa\n",
    "What is the size of your train? 1\n",
    " ______________________>__\n",
    "|]||[]_[]_[]|||[]_[]_[]||[|\n",
    "\\==o-o======o-o======o-o==/\n",
    "\n",
    "What is the size of your train? 2\n",
    " _________________________   ______________________>__\n",
    "|]||[]_[]_[]|||[]_[]_[]||[| |]||[]_[]_[]|||[]_[]_[]||[|\n",
    "\\==o-o======o-o======o-o==/_\\==o-o======o-o======o-o==/\n",
    "'''"
   ]
  }
 ],
 "metadata": {
  "kernelspec": {
   "display_name": "Python 3 (ipykernel)",
   "language": "python",
   "name": "python3"
  },
  "language_info": {
   "codemirror_mode": {
    "name": "ipython",
    "version": 3
   },
   "file_extension": ".py",
   "mimetype": "text/x-python",
   "name": "python",
   "nbconvert_exporter": "python",
   "pygments_lexer": "ipython3",
   "version": "3.9.6"
  }
 },
 "nbformat": 4,
 "nbformat_minor": 5
}
