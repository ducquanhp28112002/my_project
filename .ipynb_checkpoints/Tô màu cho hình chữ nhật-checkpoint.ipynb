{
 "cells": [
  {
   "cell_type": "code",
   "execution_count": 3,
   "id": "ec7358e3",
   "metadata": {},
   "outputs": [
    {
     "name": "stdout",
     "output_type": "stream",
     "text": [
      "Chiều dài hình chữ nhật là: 100\n",
      "Chiều rộng hình chữ nhật là: 50\n",
      "Nhập màu: blue\n"
     ]
    }
   ],
   "source": [
    "chieu_dai = int(input(\"Chiều dài hình chữ nhật là: \"))\n",
    "chieu_rong = int(input(\"Chiều rộng hình chữ nhật là: \"))\n",
    "color = input(\"Nhập màu: \")\n",
    "import turtle as t\n",
    "t.fillcolor(color)\n",
    "t.begin_fill()\n",
    "t.forward(chieu_dai)\n",
    "t.left(90)\n",
    "t.forward(chieu_rong)\n",
    "t.left(90)\n",
    "t.forward(chieu_dai)\n",
    "t.left(90)\n",
    "t.forward(chieu_rong)\n",
    "t.end_fill()\n",
    "t.done()"
   ]
  }
 ],
 "metadata": {
  "kernelspec": {
   "display_name": "Python 3 (ipykernel)",
   "language": "python",
   "name": "python3"
  },
  "language_info": {
   "codemirror_mode": {
    "name": "ipython",
    "version": 3
   },
   "file_extension": ".py",
   "mimetype": "text/x-python",
   "name": "python",
   "nbconvert_exporter": "python",
   "pygments_lexer": "ipython3",
   "version": "3.9.6"
  }
 },
 "nbformat": 4,
 "nbformat_minor": 5
}
