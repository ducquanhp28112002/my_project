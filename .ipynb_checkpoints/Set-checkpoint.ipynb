{
 "cells": [
  {
   "cell_type": "markdown",
   "id": "765adae8",
   "metadata": {},
   "source": [
    "### Set là gì"
   ]
  },
  {
   "cell_type": "code",
   "execution_count": 3,
   "id": "8b5a63c7",
   "metadata": {},
   "outputs": [
    {
     "name": "stdout",
     "output_type": "stream",
     "text": [
      "{8, 5, 6, 7}\n",
      "{'xin chao', 'hello', 'hi'}\n",
      "{(1, 5, 7), 5, 'hello'}\n"
     ]
    }
   ],
   "source": [
    "# Một set kiểu numbers\n",
    "set1 = {1, 2, 3, 4}\n",
    "print(set1)    \n",
    " \n",
    "# Một set kiểu string\n",
    "set2 = {\"hello\", \"hi\", \"xin chao\"}\n",
    "print(set2)    \n",
    " \n",
    "# Set với kiểu dữ liệu hỗn hợp\n",
    "set3 = {\"hello\", 5, (1, 5, 7)}\n",
    "print(set3)   "
   ]
  },
  {
   "cell_type": "code",
   "execution_count": 4,
   "id": "87b3275c",
   "metadata": {},
   "outputs": [
    {
     "name": "stdout",
     "output_type": "stream",
     "text": [
      "{'hieu'}\n"
     ]
    }
   ],
   "source": [
    "name = {'hieu', 'hieu'}\n",
    "print(name)"
   ]
  },
  {
   "cell_type": "markdown",
   "id": "28f896c1",
   "metadata": {},
   "source": [
    "### Truy cập các phần tử trong set\n"
   ]
  },
  {
   "cell_type": "code",
   "execution_count": 25,
   "id": "ada9ff0c",
   "metadata": {},
   "outputs": [
    {
     "name": "stdout",
     "output_type": "stream",
     "text": [
      "8\n",
      "1\n",
      "3\n",
      "4\n"
     ]
    }
   ],
   "source": [
    "myset = {1, 3, 8, 4}\n",
    "for item in myset:\n",
    "    print(item)"
   ]
  },
  {
   "cell_type": "markdown",
   "id": "bcac4f14",
   "metadata": {},
   "source": [
    "### Thêm phần tử\n"
   ]
  },
  {
   "cell_type": "code",
   "execution_count": 6,
   "id": "a22895cb",
   "metadata": {},
   "outputs": [
    {
     "name": "stdout",
     "output_type": "stream",
     "text": [
      "{4, 5, 6, 7, 8}\n",
      "{4, 5, 6, 7, 8, 'hello'}\n"
     ]
    }
   ],
   "source": [
    "myset = {4,8,7,5}\n",
    " \n",
    "# Thêm một số vào set\n",
    "myset.add(6)\n",
    "print(myset) \n",
    "\n",
    "# Thêm một chuỗi cũng làm như thêm một số vậy\n",
    "myset.add(\"hello\")\n",
    "print(myset) "
   ]
  },
  {
   "cell_type": "code",
   "execution_count": 24,
   "id": "c6785cd8",
   "metadata": {},
   "outputs": [
    {
     "name": "stdout",
     "output_type": "stream",
     "text": [
      "{'hoai', 'hieu', 'lina', 'hary', 'anh', 'loc', 'john'}\n"
     ]
    }
   ],
   "source": [
    "# Cập nhật lại set (ngẫu nhiên)\n",
    "name={'hieu', 'hoai', 'anh', 'loc'}\n",
    "name.update(['john', 'lina', 'hary'])\n",
    "print(name) "
   ]
  },
  {
   "cell_type": "markdown",
   "id": "e0c86224",
   "metadata": {},
   "source": [
    "### Loại bỏ phần tử\n"
   ]
  },
  {
   "cell_type": "code",
   "execution_count": 8,
   "id": "600163d8",
   "metadata": {},
   "outputs": [
    {
     "name": "stdout",
     "output_type": "stream",
     "text": [
      "{'apple', 'cherry'}\n"
     ]
    }
   ],
   "source": [
    "# Hàm remove (xóa một phần tử bất kỳ mà ta chọn, khi phần tử không có trong set sẽ báo lỗi)\n",
    "thisset = {\"apple\", \"banana\", \"cherry\"}\n",
    "# Xóa phần tử \"banana\n",
    "thisset.remove(\"banana\")\n",
    "print(thisset)"
   ]
  },
  {
   "cell_type": "code",
   "execution_count": 21,
   "id": "280b2c55",
   "metadata": {},
   "outputs": [
    {
     "name": "stdout",
     "output_type": "stream",
     "text": [
      "{'banana', 'apple', 'cherry'}\n"
     ]
    }
   ],
   "source": [
    "# Hàm discard (xóa một phần tử bất kỳ mà ta chọn, khi phần tử không có trong set sẽ không báo lỗi)\n",
    "thisset = {\"apple\", \"banana\", \"cherry\"}\n",
    "thisset.discard(\"banana\")\n",
    "print(thisset)"
   ]
  },
  {
   "cell_type": "code",
   "execution_count": 17,
   "id": "a924f459",
   "metadata": {},
   "outputs": [
    {
     "name": "stdout",
     "output_type": "stream",
     "text": [
      "banana\n",
      "{'apple', 'cherry'}\n"
     ]
    }
   ],
   "source": [
    "# Hàm pop (xóa phần tử cuối cùng trong set)\n",
    "thisset = {\"apple\", \"banana\", \"cherry\"}\n",
    " \n",
    "x = thisset.pop()\n",
    "print(x)\n",
    " \n",
    "print(thisset)\n"
   ]
  },
  {
   "cell_type": "code",
   "execution_count": 12,
   "id": "82845ca9",
   "metadata": {},
   "outputs": [
    {
     "name": "stdout",
     "output_type": "stream",
     "text": [
      "set()\n"
     ]
    }
   ],
   "source": [
    "# Hàm clear (xóa toàn bộ các phần tử trong set)\n",
    "thisset = {\"apple\", \"banana\", \"cherry\"}\n",
    "thisset.clear()\n",
    "print(thisset)"
   ]
  },
  {
   "cell_type": "code",
   "execution_count": 14,
   "id": "b7f3fca8",
   "metadata": {},
   "outputs": [
    {
     "ename": "NameError",
     "evalue": "name 'thisset' is not defined",
     "output_type": "error",
     "traceback": [
      "\u001b[1;31m---------------------------------------------------------------------------\u001b[0m",
      "\u001b[1;31mNameError\u001b[0m                                 Traceback (most recent call last)",
      "\u001b[1;32m~\\AppData\\Local\\Temp/ipykernel_6788/3674922261.py\u001b[0m in \u001b[0;36m<module>\u001b[1;34m\u001b[0m\n\u001b[0;32m      2\u001b[0m \u001b[0mthisset\u001b[0m \u001b[1;33m=\u001b[0m \u001b[1;33m{\u001b[0m\u001b[1;34m\"apple\"\u001b[0m\u001b[1;33m,\u001b[0m \u001b[1;34m\"banana\"\u001b[0m\u001b[1;33m,\u001b[0m \u001b[1;34m\"cherry\"\u001b[0m\u001b[1;33m}\u001b[0m\u001b[1;33m\u001b[0m\u001b[1;33m\u001b[0m\u001b[0m\n\u001b[0;32m      3\u001b[0m \u001b[1;32mdel\u001b[0m \u001b[0mthisset\u001b[0m\u001b[1;33m\u001b[0m\u001b[1;33m\u001b[0m\u001b[0m\n\u001b[1;32m----> 4\u001b[1;33m \u001b[0mprint\u001b[0m\u001b[1;33m(\u001b[0m\u001b[0mthisset\u001b[0m\u001b[1;33m)\u001b[0m\u001b[1;33m\u001b[0m\u001b[1;33m\u001b[0m\u001b[0m\n\u001b[0m",
      "\u001b[1;31mNameError\u001b[0m: name 'thisset' is not defined"
     ]
    }
   ],
   "source": [
    "# Hàm del (xóa set)\n",
    "thisset = {\"apple\", \"banana\", \"cherry\"}\n",
    "del thisset\n",
    "print(thisset) # lỗi khi print"
   ]
  },
  {
   "cell_type": "markdown",
   "id": "ed855a2f",
   "metadata": {},
   "source": [
    "### Kiểm tra phần tử có trong set hay không\n"
   ]
  },
  {
   "cell_type": "code",
   "execution_count": 18,
   "id": "56b921e0",
   "metadata": {},
   "outputs": [
    {
     "name": "stdout",
     "output_type": "stream",
     "text": [
      "True\n",
      "False\n"
     ]
    }
   ],
   "source": [
    "thisset = {10, 15, 19, 14}\n",
    " \n",
    "# Kiểm tra xem số 10 có trong set hay không\n",
    "print(10 in thisset)   \n",
    "\n",
    "# Kiểm tra xem số 15 có mặt không\n",
    "print(15 not in thisset) "
   ]
  }
 ],
 "metadata": {
  "kernelspec": {
   "display_name": "Python 3 (ipykernel)",
   "language": "python",
   "name": "python3"
  },
  "language_info": {
   "codemirror_mode": {
    "name": "ipython",
    "version": 3
   },
   "file_extension": ".py",
   "mimetype": "text/x-python",
   "name": "python",
   "nbconvert_exporter": "python",
   "pygments_lexer": "ipython3",
   "version": "3.9.6"
  }
 },
 "nbformat": 4,
 "nbformat_minor": 5
}
