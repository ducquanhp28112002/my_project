{
 "cells": [
  {
   "cell_type": "code",
   "execution_count": 2,
   "id": "64bf67ef",
   "metadata": {},
   "outputs": [
    {
     "name": "stdout",
     "output_type": "stream",
     "text": [
      "Nhập vào số: 9\n",
      "Nhập vào số: 8\n",
      "Nhập vào số: 10\n",
      "(8, 9, 10)\n"
     ]
    }
   ],
   "source": [
    "def input_number():\n",
    "    num1 = int(input(\"Nhập vào số: \"))\n",
    "    num2 = int(input(\"Nhập vào số: \"))\n",
    "    num3 = int(input(\"Nhập vào số: \"))\n",
    "    return num1, num2, num3\n",
    "\n",
    "def so_sanh(num1, num2, num3):\n",
    "    if num1 < num2 and num1 < num3:\n",
    "        if num2 < num3:\n",
    "            return (num1, num2, num3)\n",
    "        else:\n",
    "            return (num1, num3, num2)\n",
    "    if num2 < num1 and num2 < num3:\n",
    "        if num1 < num3:\n",
    "            return (num2, num1, num3)\n",
    "        else:\n",
    "            return (num2, num3, num1)\n",
    "    if num3 < num1 and num3 < num2:\n",
    "        if num1 < num2:\n",
    "            return (num3, num1, num2)\n",
    "        else:\n",
    "            return (num3, num2, num1)\n",
    "\n",
    "num1, num2, num3  = input_number()\n",
    "result = so_sanh(num1, num2, num3)\n",
    "print (result)"
   ]
  }
 ],
 "metadata": {
  "kernelspec": {
   "display_name": "Python 3 (ipykernel)",
   "language": "python",
   "name": "python3"
  },
  "language_info": {
   "codemirror_mode": {
    "name": "ipython",
    "version": 3
   },
   "file_extension": ".py",
   "mimetype": "text/x-python",
   "name": "python",
   "nbconvert_exporter": "python",
   "pygments_lexer": "ipython3",
   "version": "3.9.6"
  }
 },
 "nbformat": 4,
 "nbformat_minor": 5
}
