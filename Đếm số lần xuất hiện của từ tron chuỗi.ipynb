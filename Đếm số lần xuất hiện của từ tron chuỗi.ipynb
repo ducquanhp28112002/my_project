{
 "cells": [
  {
   "cell_type": "code",
   "execution_count": 11,
   "id": "aafb6740",
   "metadata": {},
   "outputs": [
    {
     "name": "stdout",
     "output_type": "stream",
     "text": [
      "Welcome 1, to 1, my 1, house 1, "
     ]
    }
   ],
   "source": [
    "string = 'Welcome to my house'\n",
    "str = string.split(\" \")\n",
    " \n",
    "count = {}\n",
    "for i in str:\n",
    "    if i in count:\n",
    "        count[i]+=1\n",
    "    else:\n",
    "        count[i]=1\n",
    "\n",
    "for i in sorted(count, key=count.get, reverse=False):\n",
    "    print(i, count[i], end = \", \")"
   ]
  },
  {
   "cell_type": "code",
   "execution_count": null,
   "id": "b5cf23bc",
   "metadata": {},
   "outputs": [],
   "source": []
  }
 ],
 "metadata": {
  "kernelspec": {
   "display_name": "Python 3 (ipykernel)",
   "language": "python",
   "name": "python3"
  },
  "language_info": {
   "codemirror_mode": {
    "name": "ipython",
    "version": 3
   },
   "file_extension": ".py",
   "mimetype": "text/x-python",
   "name": "python",
   "nbconvert_exporter": "python",
   "pygments_lexer": "ipython3",
   "version": "3.9.6"
  }
 },
 "nbformat": 4,
 "nbformat_minor": 5
}
