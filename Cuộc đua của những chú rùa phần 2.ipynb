{
 "cells": [
  {
   "cell_type": "code",
   "execution_count": 2,
   "id": "5acd4a96",
   "metadata": {},
   "outputs": [],
   "source": [
    "import turtle\n",
    "from random import choice\n",
    "turtle.Screen().setup(1.0, 1.0)\n",
    "#Set up race\n",
    "fn = turtle.Turtle()\n",
    "finish_line = 500\n",
    "fn.penup()\n",
    "fn.goto(finish_line, 768/2)\n",
    "fn.pendown()\n",
    "fn.right(90)\n",
    "fn.pensize(10)\n",
    "fn.fd(768)\n",
    "racer_color = [\"blue\", \"red\", \"green\", \"yellow\", \"black\", \"pink\", \"brown\"]\n",
    "x_start = -500\n",
    "y_start = [0, 40, 80, 120, -40, -80, -120]\n",
    "speed = [5, 10, 15, 20, 25, 30]\n",
    "all_turtle = []\n",
    "\n",
    "#Set up racers\n",
    "for index in range(len(racer_color)):\n",
    "    p = turtle.Turtle()\n",
    "    p.shape(\"turtle\")\n",
    "    p.speed(10)\n",
    "    p.color(racer_color[index])\n",
    "    p.penup()\n",
    "    p.goto(x_start, y_start[index])\n",
    "    all_turtle.append(p)\n",
    "\n",
    "#Race\n",
    "run = True\n",
    "while run:\n",
    "    for i in range(0, len(racer_color)):\n",
    "        (all_turtle[i]).fd(choice(speed))\n",
    "        if all_turtle[i].xcor() > finish_line:\n",
    "            winner = i\n",
    "            run = False\n",
    "\n",
    "result = turtle.Turtle()\n",
    "result.penup()\n",
    "result.goto(0, 340)\n",
    "result.write(f\"Congrate: {racer_color[winner]} is winner\", align=\"center\", font = (\"Arial\", 20, \"normal\"))\n",
    "result.goto(-400, -400)\n",
    "\n",
    "turtle.done()"
   ]
  }
 ],
 "metadata": {
  "kernelspec": {
   "display_name": "Python 3 (ipykernel)",
   "language": "python",
   "name": "python3"
  },
  "language_info": {
   "codemirror_mode": {
    "name": "ipython",
    "version": 3
   },
   "file_extension": ".py",
   "mimetype": "text/x-python",
   "name": "python",
   "nbconvert_exporter": "python",
   "pygments_lexer": "ipython3",
   "version": "3.9.6"
  }
 },
 "nbformat": 4,
 "nbformat_minor": 5
}
