{
 "cells": [
  {
   "cell_type": "code",
   "execution_count": 13,
   "id": "3891a7b9",
   "metadata": {},
   "outputs": [],
   "source": [
    "import tkinter\n",
    "from tkinter import *\n",
    "from tkinter.ttk import *\n",
    "\n",
    "root = Tk()\n",
    "root.title(\"Trang quản lý thông tin cá nhân\")\n",
    "root.geometry(\"500x500\")\n",
    "\n",
    "label = Label(root, text = \"Welcome\", font = (\"Time New Roman\", 20))\n",
    "label.grid(column = 3, row = 0)\n",
    "\n",
    "label2 = Label(root, text = \"Họ và tên\", font = (\"Time New Roman\", 14))\n",
    "label2.grid(column = 0, row = 1)\n",
    "txt2 = Entry(root, width = 30)\n",
    "txt2.grid(column = 1, row = 1)\n",
    "def say_hello():\n",
    "    label.configure(text = \"Xin chào \" + txt2.get())\n",
    "    return\n",
    "button1 = Button(root, text = \"Click on here\", command = say_hello)\n",
    "button1.grid(column = 2, row = 1)\n",
    "\n",
    "root.mainloop()"
   ]
  },
  {
   "cell_type": "code",
   "execution_count": null,
   "id": "091f2314",
   "metadata": {},
   "outputs": [],
   "source": []
  }
 ],
 "metadata": {
  "kernelspec": {
   "display_name": "Python 3 (ipykernel)",
   "language": "python",
   "name": "python3"
  },
  "language_info": {
   "codemirror_mode": {
    "name": "ipython",
    "version": 3
   },
   "file_extension": ".py",
   "mimetype": "text/x-python",
   "name": "python",
   "nbconvert_exporter": "python",
   "pygments_lexer": "ipython3",
   "version": "3.9.6"
  }
 },
 "nbformat": 4,
 "nbformat_minor": 5
}
