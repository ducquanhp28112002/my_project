{
 "cells": [
  {
   "cell_type": "code",
   "execution_count": 2,
   "id": "299910d6",
   "metadata": {},
   "outputs": [],
   "source": [
    "import turtle\n",
    "\n",
    "t = turtle.Pen()\n",
    "turtle.bgcolor(\"black\")\n",
    "colors = [\"red\", \"yellow\", \"blue\", \"green\"]\n",
    "\n",
    "for x in range(200):\n",
    "    t.pencolor(colors[x % 4])\n",
    "    t.forward(x)\n",
    "    t.left(91)"
   ]
  }
 ],
 "metadata": {
  "kernelspec": {
   "display_name": "Python 3 (ipykernel)",
   "language": "python",
   "name": "python3"
  },
  "language_info": {
   "codemirror_mode": {
    "name": "ipython",
    "version": 3
   },
   "file_extension": ".py",
   "mimetype": "text/x-python",
   "name": "python",
   "nbconvert_exporter": "python",
   "pygments_lexer": "ipython3",
   "version": "3.9.6"
  }
 },
 "nbformat": 4,
 "nbformat_minor": 5
}
