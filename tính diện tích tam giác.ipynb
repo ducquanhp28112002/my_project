{
 "cells": [
  {
   "cell_type": "code",
   "execution_count": 1,
   "id": "88d95034",
   "metadata": {},
   "outputs": [
    {
     "name": "stdout",
     "output_type": "stream",
     "text": [
      "Nhập cạnh thứ nhất: 5\n",
      "Nhập cạnh thứ hai: 5\n",
      "Nhập cạnh thứ ba: 5\n",
      "Diện tích tam giác là:  10.825317547305483\n"
     ]
    }
   ],
   "source": [
    "import math\n",
    "a = float(input(\"Nhập cạnh thứ nhất: \"))\n",
    "b = float(input(\"Nhập cạnh thứ hai: \"))\n",
    "c = float(input(\"Nhập cạnh thứ ba: \"))\n",
    "s = (a+b+c)/2\n",
    "area = math.sqrt(s*(s-a)*(s-b)*(s-c))\n",
    "print(\"Diện tích tam giác là: \", area)"
   ]
  }
 ],
 "metadata": {
  "kernelspec": {
   "display_name": "Python 3 (ipykernel)",
   "language": "python",
   "name": "python3"
  },
  "language_info": {
   "codemirror_mode": {
    "name": "ipython",
    "version": 3
   },
   "file_extension": ".py",
   "mimetype": "text/x-python",
   "name": "python",
   "nbconvert_exporter": "python",
   "pygments_lexer": "ipython3",
   "version": "3.9.6"
  }
 },
 "nbformat": 4,
 "nbformat_minor": 5
}
