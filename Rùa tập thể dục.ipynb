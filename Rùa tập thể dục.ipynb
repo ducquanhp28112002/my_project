{
 "cells": [
  {
   "cell_type": "code",
   "execution_count": 1,
   "id": "4cfdb013",
   "metadata": {},
   "outputs": [],
   "source": [
    "import turtle\n",
    "import random as r\n",
    "\n",
    "# khởi tạo turtle\n",
    "t = turtle.Turtle()\n",
    "t.shape(\"turtle\")\n",
    "# Ẩn hình ảnh rùa\n",
    "t.hideturtle()\n",
    "t.pensize(3)\n",
    "t.color(\"red\")\n",
    "t.speed(1)\n",
    "t.penup()\n",
    "t.goto(-400, 0)\n",
    "t.showturtle()\n",
    "\n",
    "count = 0\n",
    "while count < 10:\n",
    "    down = r.randint(20, 50)\n",
    "    up = r.randint(20, 50)\n",
    "    t.pendown()\n",
    "    t.forward(down)\n",
    "    t.penup()\n",
    "    t.forward(up)\n",
    "    count += 1\n",
    "turtle.done()"
   ]
  }
 ],
 "metadata": {
  "kernelspec": {
   "display_name": "Python 3 (ipykernel)",
   "language": "python",
   "name": "python3"
  },
  "language_info": {
   "codemirror_mode": {
    "name": "ipython",
    "version": 3
   },
   "file_extension": ".py",
   "mimetype": "text/x-python",
   "name": "python",
   "nbconvert_exporter": "python",
   "pygments_lexer": "ipython3",
   "version": "3.9.6"
  }
 },
 "nbformat": 4,
 "nbformat_minor": 5
}
